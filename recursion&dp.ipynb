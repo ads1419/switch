{
 "cells": [
  {
   "cell_type": "code",
   "execution_count": 1,
   "metadata": {},
   "outputs": [],
   "source": [
    "%config Completer.use_jedi = False"
   ]
  },
  {
   "cell_type": "markdown",
   "metadata": {},
   "source": [
    "## Reverse A String"
   ]
  },
  {
   "cell_type": "code",
   "execution_count": 5,
   "metadata": {},
   "outputs": [],
   "source": [
    "def reverseString(s):\n",
    "    if not s:\n",
    "        return \"\"\n",
    "    \n",
    "    return reverseString(s[1:]) + s[0]"
   ]
  },
  {
   "cell_type": "markdown",
   "metadata": {},
   "source": [
    "## Is String Palindrome"
   ]
  },
  {
   "cell_type": "code",
   "execution_count": 7,
   "metadata": {},
   "outputs": [],
   "source": [
    "def is_palindrome(s):\n",
    "    if len(s) < 2:\n",
    "        return True\n",
    "    \n",
    "    return (s[0] == s[-1]) and is_palindrome(s[1:-1])"
   ]
  },
  {
   "cell_type": "code",
   "execution_count": 10,
   "metadata": {},
   "outputs": [
    {
     "data": {
      "text/plain": [
       "True"
      ]
     },
     "execution_count": 10,
     "metadata": {},
     "output_type": "execute_result"
    }
   ],
   "source": [
    "is_palindrome(\"racecar\")"
   ]
  },
  {
   "cell_type": "markdown",
   "metadata": {},
   "source": [
    "## Integer to Binary"
   ]
  },
  {
   "cell_type": "code",
   "execution_count": 16,
   "metadata": {},
   "outputs": [],
   "source": [
    "def to_binary(number):\n",
    "    if number < 2:\n",
    "        return str(number)\n",
    "    \n",
    "    return to_binary(number // 2) + str(number % 2)"
   ]
  },
  {
   "cell_type": "code",
   "execution_count": 18,
   "metadata": {},
   "outputs": [
    {
     "data": {
      "text/plain": [
       "233"
      ]
     },
     "execution_count": 18,
     "metadata": {},
     "output_type": "execute_result"
    }
   ],
   "source": [
    "int(to_binary(233), 2)"
   ]
  },
  {
   "cell_type": "markdown",
   "metadata": {},
   "source": [
    "## Merge Sort"
   ]
  },
  {
   "cell_type": "code",
   "execution_count": 30,
   "metadata": {},
   "outputs": [],
   "source": [
    "def merge(a, b):\n",
    "    ia = ib = 0\n",
    "    res = []\n",
    "    while ia < len(a) and ib < len(b):\n",
    "        if a[ia] < b[ib]:\n",
    "            res.append(a[ia])\n",
    "            ia += 1\n",
    "            \n",
    "        else:\n",
    "            res.append(b[ib])\n",
    "            ib += 1\n",
    "            \n",
    "    for ia in range(ia, len(a)):\n",
    "        res.append(a[ia])\n",
    "        \n",
    "    for ib in range(ib, len(b)):\n",
    "        res.append(b[ib])\n",
    "        \n",
    "    return res\n",
    "\n",
    "def mergeSort(array):\n",
    "    if len(array) < 2:\n",
    "        return array\n",
    "    \n",
    "    split_idx = len(array) // 2\n",
    "    left, right = array[:split_idx], array[split_idx:]\n",
    "    \n",
    "    return merge(mergeSort(left), mergeSort(right))"
   ]
  },
  {
   "cell_type": "code",
   "execution_count": 31,
   "metadata": {},
   "outputs": [],
   "source": [
    "import random\n",
    "\n",
    "array = [random.randint(1, 100) for _ in range(10)]"
   ]
  },
  {
   "cell_type": "code",
   "execution_count": 33,
   "metadata": {},
   "outputs": [
    {
     "data": {
      "text/plain": [
       "[45, 78, 7, 8, 63, 15, 3, 6, 31, 93]"
      ]
     },
     "execution_count": 33,
     "metadata": {},
     "output_type": "execute_result"
    }
   ],
   "source": [
    "array"
   ]
  },
  {
   "cell_type": "code",
   "execution_count": 32,
   "metadata": {},
   "outputs": [
    {
     "data": {
      "text/plain": [
       "[3, 6, 7, 8, 15, 31, 45, 63, 78, 93]"
      ]
     },
     "execution_count": 32,
     "metadata": {},
     "output_type": "execute_result"
    }
   ],
   "source": [
    "mergeSort(array)"
   ]
  },
  {
   "cell_type": "code",
   "execution_count": null,
   "metadata": {},
   "outputs": [],
   "source": []
  },
  {
   "cell_type": "code",
   "execution_count": 52,
   "metadata": {},
   "outputs": [],
   "source": [
    "array = [4, 4, 4]\n",
    "element = 3"
   ]
  },
  {
   "cell_type": "code",
   "execution_count": 75,
   "metadata": {},
   "outputs": [],
   "source": [
    "def insert_sorted(array, element):\n",
    "    if len(array) == 0 or array[-1] <= element:\n",
    "        array.append(element)\n",
    "        return\n",
    "    \n",
    "    temp = array.pop()\n",
    "    insert_sorted(array, element)\n",
    "    array.append(temp)\n",
    "    \n",
    "    return array\n",
    "\n",
    "def sortStack(stack):\n",
    "    # Write your code here.\n",
    "    if len(stack) <= 1:\n",
    "        return stack\n",
    "    \n",
    "    top = stack.pop()\n",
    "    \n",
    "    remaining_stack = sortStack(stack)\n",
    "    insert_sorted(stack, top)\n",
    "    \n",
    "    return stack\n"
   ]
  },
  {
   "cell_type": "code",
   "execution_count": 73,
   "metadata": {},
   "outputs": [],
   "source": [
    "a = [45, 78, 7, 8, 63, 15, 3, 6, 31, 93]"
   ]
  },
  {
   "cell_type": "code",
   "execution_count": 74,
   "metadata": {},
   "outputs": [
    {
     "data": {
      "text/plain": [
       "[3, 6, 7, 8, 15, 31, 45, 63, 78, 93]"
      ]
     },
     "execution_count": 74,
     "metadata": {},
     "output_type": "execute_result"
    }
   ],
   "source": [
    "sortStack(a)"
   ]
  },
  {
   "cell_type": "code",
   "execution_count": 106,
   "metadata": {},
   "outputs": [],
   "source": [
    "array = [2, 5, -3, -4, 6, 7, 2]"
   ]
  },
  {
   "cell_type": "code",
   "execution_count": 113,
   "metadata": {},
   "outputs": [],
   "source": [
    "def nextGreaterElement(array):\n",
    "    # Write your code here.\n",
    "    array = array * 2\n",
    "    \n",
    "    not_found_stack = [0]\n",
    "    next_greater = [None] * len(array)\n",
    "    \n",
    "    i = 1\n",
    "    while i < len(array):\n",
    "        if array[i] > array[not_found_stack[-1]]:\n",
    "            while not_found_stack and array[not_found_stack[-1]] < array[i]:\n",
    "                next_greater[not_found_stack.pop()] = array[i]\n",
    "                \n",
    "            while not_found_stack:\n",
    "                next_greater[not_found_stack.pop()] = -1\n",
    "                \n",
    "        not_found_stack.append(i)\n",
    "        i += 1\n",
    "    \n",
    "    return next_greater[:len(array)//2]\n"
   ]
  },
  {
   "cell_type": "code",
   "execution_count": 114,
   "metadata": {},
   "outputs": [
    {
     "data": {
      "text/plain": [
       "[5, 6, 6, 6, 7, -1, 5]"
      ]
     },
     "execution_count": 114,
     "metadata": {},
     "output_type": "execute_result"
    }
   ],
   "source": [
    "nextGreaterElement(array)"
   ]
  },
  {
   "cell_type": "code",
   "execution_count": null,
   "metadata": {},
   "outputs": [],
   "source": []
  },
  {
   "cell_type": "code",
   "execution_count": 149,
   "metadata": {},
   "outputs": [],
   "source": [
    "def permute(array):\n",
    "    if array is None:\n",
    "        return []\n",
    "    \n",
    "    elif len(array) < 2:\n",
    "        return [array]\n",
    "    \n",
    "    perms = []\n",
    "    for i in range(len(array)):\n",
    "        p = permute(array[:i] + array[i+1:])\n",
    "        for j in p:\n",
    "            perms.append([array[i]] + j)\n",
    "    return perms"
   ]
  },
  {
   "cell_type": "code",
   "execution_count": 154,
   "metadata": {},
   "outputs": [],
   "source": [
    "array = [1,2,3,4]"
   ]
  },
  {
   "cell_type": "code",
   "execution_count": 155,
   "metadata": {},
   "outputs": [
    {
     "data": {
      "text/plain": [
       "[[1, 2, 3, 4],\n",
       " [1, 2, 4, 3],\n",
       " [1, 3, 2, 4],\n",
       " [1, 3, 4, 2],\n",
       " [1, 4, 2, 3],\n",
       " [1, 4, 3, 2],\n",
       " [2, 1, 3, 4],\n",
       " [2, 1, 4, 3],\n",
       " [2, 3, 1, 4],\n",
       " [2, 3, 4, 1],\n",
       " [2, 4, 1, 3],\n",
       " [2, 4, 3, 1],\n",
       " [3, 1, 2, 4],\n",
       " [3, 1, 4, 2],\n",
       " [3, 2, 1, 4],\n",
       " [3, 2, 4, 1],\n",
       " [3, 4, 1, 2],\n",
       " [3, 4, 2, 1],\n",
       " [4, 1, 2, 3],\n",
       " [4, 1, 3, 2],\n",
       " [4, 2, 1, 3],\n",
       " [4, 2, 3, 1],\n",
       " [4, 3, 1, 2],\n",
       " [4, 3, 2, 1]]"
      ]
     },
     "execution_count": 155,
     "metadata": {},
     "output_type": "execute_result"
    }
   ],
   "source": [
    "permute(array)"
   ]
  },
  {
   "cell_type": "code",
   "execution_count": null,
   "metadata": {},
   "outputs": [],
   "source": []
  },
  {
   "cell_type": "markdown",
   "metadata": {},
   "source": [
    "# Graphs"
   ]
  },
  {
   "cell_type": "markdown",
   "metadata": {},
   "source": [
    "## Traversals"
   ]
  },
  {
   "cell_type": "code",
   "execution_count": 1,
   "metadata": {},
   "outputs": [],
   "source": [
    "g = {\n",
    "    \"a\": [\"b\", \"c\"],\n",
    "    \"b\": [\"d\"],\n",
    "    \"c\": [\"e\"],\n",
    "    \"d\": [\"f\"],\n",
    "    \"e\": [],\n",
    "    \"f\": []\n",
    "}"
   ]
  },
  {
   "cell_type": "code",
   "execution_count": 2,
   "metadata": {},
   "outputs": [],
   "source": [
    "def dfs(g, node, vis):\n",
    "    print(node, end=\" \")\n",
    "    vis.add(node)\n",
    "    \n",
    "    for neighbor in g[node]:\n",
    "        if neighbor not in vis:\n",
    "            dfs(g, neighbor, vis)"
   ]
  },
  {
   "cell_type": "code",
   "execution_count": 3,
   "metadata": {},
   "outputs": [],
   "source": [
    "def dfs_iterative(g, stack):\n",
    "    while stack:\n",
    "        node = stack.pop()\n",
    "        print(node, end=\" \")\n",
    "        \n",
    "        for neighbor in g[node]:\n",
    "            stack.append(neighbor)"
   ]
  },
  {
   "cell_type": "code",
   "execution_count": 4,
   "metadata": {},
   "outputs": [
    {
     "name": "stdout",
     "output_type": "stream",
     "text": [
      "a b d f c e "
     ]
    }
   ],
   "source": [
    "dfs(g, \"a\", set())"
   ]
  },
  {
   "cell_type": "code",
   "execution_count": 5,
   "metadata": {},
   "outputs": [
    {
     "name": "stdout",
     "output_type": "stream",
     "text": [
      "a c e b d f "
     ]
    }
   ],
   "source": [
    "dfs_iterative(g, [\"a\"])"
   ]
  },
  {
   "cell_type": "code",
   "execution_count": 6,
   "metadata": {},
   "outputs": [],
   "source": [
    "from collections import deque\n",
    "\n",
    "def bfs(g, q):\n",
    "    while q:\n",
    "        node = q.popleft()\n",
    "        print(node, end=\" \")\n",
    "        \n",
    "        for neighbor in g[node]:\n",
    "            q.append(neighbor)"
   ]
  },
  {
   "cell_type": "code",
   "execution_count": 15,
   "metadata": {},
   "outputs": [],
   "source": [
    "from collections import deque\n",
    "\n",
    "def bfs_levels(g, q):\n",
    "    levels = {\"a\": 0}\n",
    "    while q:\n",
    "        node = q.popleft()\n",
    "        print(node)\n",
    "        \n",
    "        for neighbor in g[node]:\n",
    "            q.append(neighbor)\n",
    "            levels[neighbor] = levels[node] + 1\n",
    "            \n",
    "    return levels"
   ]
  },
  {
   "cell_type": "code",
   "execution_count": 16,
   "metadata": {},
   "outputs": [
    {
     "name": "stdout",
     "output_type": "stream",
     "text": [
      "a\n",
      "b\n",
      "c\n",
      "d\n",
      "e\n",
      "f\n"
     ]
    },
    {
     "data": {
      "text/plain": [
       "{'a': 0, 'b': 1, 'c': 1, 'd': 2, 'e': 2, 'f': 3}"
      ]
     },
     "execution_count": 16,
     "metadata": {},
     "output_type": "execute_result"
    }
   ],
   "source": [
    "bfs_levels(g, deque(\"a\"))"
   ]
  },
  {
   "cell_type": "code",
   "execution_count": null,
   "metadata": {},
   "outputs": [],
   "source": []
  },
  {
   "cell_type": "code",
   "execution_count": 10,
   "metadata": {},
   "outputs": [],
   "source": [
    "a = [[False, False, False, False, False, True, False, False, False, False, False, False], [False, False, False, False, False, True, True, True, True, False, False, False], [False, False, False, False, True, True, False, True, False, False, False, False], [False, False, False, False, True, True, False, False, False, False, False, False], [False, False, False, False, False, False, False, False, False, False, False, False]]\n",
    "b = [[1, 0, 0, 1, 0, 1, 0, 0, 1, 1, 1, 0], [1, 0, 1, 0, 0, 1, 1, 1, 1, 0, 1, 0], [0, 0, 1, 0, 1, 1, 0, 1, 0, 1, 1, 1], [1, 0, 1, 0, 1, 1, 0, 0, 0, 1, 0, 0], [1, 0, 1, 1, 0, 0, 0, 1, 1, 1, 0, 1]]"
   ]
  },
  {
   "cell_type": "code",
   "execution_count": 15,
   "metadata": {},
   "outputs": [
    {
     "name": "stdout",
     "output_type": "stream",
     "text": [
      "[0, 0, 0, 0, 0, 1, 0, 0, 0, 0, 0, 0]\n",
      "[0, 0, 0, 0, 0, 1, 1, 1, 1, 0, 0, 0]\n",
      "[0, 0, 0, 0, 1, 1, 0, 1, 0, 0, 0, 0]\n",
      "[0, 0, 0, 0, 1, 1, 0, 0, 0, 0, 0, 0]\n",
      "[0, 0, 0, 0, 0, 0, 0, 0, 0, 0, 0, 0]\n"
     ]
    }
   ],
   "source": [
    "for x in a:\n",
    "    print([int(y) for y in x])"
   ]
  },
  {
   "cell_type": "code",
   "execution_count": 14,
   "metadata": {},
   "outputs": [
    {
     "name": "stdout",
     "output_type": "stream",
     "text": [
      "[1, 0, 0, 1, 0, 1, 0, 0, 1, 1, 1, 0]\n",
      "[1, 0, 1, 0, 0, 1, 1, 1, 1, 0, 1, 0]\n",
      "[0, 0, 1, 0, 1, 1, 0, 1, 0, 1, 1, 1]\n",
      "[1, 0, 1, 0, 1, 1, 0, 0, 0, 1, 0, 0]\n",
      "[1, 0, 1, 1, 0, 0, 0, 1, 1, 1, 0, 1]\n"
     ]
    }
   ],
   "source": [
    "for x in b:\n",
    "    print(x)"
   ]
  },
  {
   "cell_type": "code",
   "execution_count": 18,
   "metadata": {},
   "outputs": [],
   "source": [
    "matrix = b"
   ]
  },
  {
   "cell_type": "code",
   "execution_count": 19,
   "metadata": {},
   "outputs": [],
   "source": [
    "i = j = 2"
   ]
  },
  {
   "cell_type": "code",
   "execution_count": 23,
   "metadata": {},
   "outputs": [
    {
     "data": {
      "text/plain": [
       "[(1, 2), (3, 2)]"
      ]
     },
     "execution_count": 23,
     "metadata": {},
     "output_type": "execute_result"
    }
   ],
   "source": [
    "list(filter(lambda coord: matrix[coord[0]][coord[1]] == 1, [(i - 1, j), (i + 1, j), (i, j + 1), (i, j - 1)]))"
   ]
  },
  {
   "cell_type": "markdown",
   "metadata": {},
   "source": [
    "# Dynamic Programming"
   ]
  },
  {
   "cell_type": "markdown",
   "metadata": {},
   "source": [
    "## LCS"
   ]
  },
  {
   "cell_type": "code",
   "execution_count": 83,
   "metadata": {},
   "outputs": [],
   "source": [
    "a = \"abcd\"\n",
    "b = \"abcd\""
   ]
  },
  {
   "cell_type": "code",
   "execution_count": 84,
   "metadata": {},
   "outputs": [],
   "source": [
    "class lcs_memo:\n",
    "    def __init__(self, lcs, parent):\n",
    "        self.lcs = lcs\n",
    "        self.parent = parent\n",
    "        \n",
    "    def __str__(self):\n",
    "        return str(self.lcs)\n",
    "    \n",
    "    def __repr__(self):\n",
    "        return str(self)\n",
    "\n",
    "\n",
    "def lcs(i, j):\n",
    "    if memo[i][j] is not None:\n",
    "        return memo[i][j]\n",
    "    \n",
    "    if a[i] == b[j]:\n",
    "        lcs = 1 + memo[i + 1][j + 1].lcs\n",
    "        parent = (i + 1, j + 1)\n",
    "        memo[i][j] = lcs_memo(lcs, parent)\n",
    "        \n",
    "    else:\n",
    "        if memo[i + 1][j].lcs > memo[i][j + 1].lcs:\n",
    "            lcs = memo[i + 1][j].lcs\n",
    "            parent = (i + 1, j)\n",
    "            memo[i][j] = lcs_memo(lcs, parent)\n",
    "            \n",
    "        else:\n",
    "            lcs = memo[i][j + 1].lcs\n",
    "            parent = (i, j + 1)\n",
    "            memo[i][j] = lcs_memo(lcs, parent)\n",
    "        \n",
    "    return memo[i][j]\n",
    "\n",
    "\n",
    "memo = [[None] * (len(b) + 1) for _ in range(len(a) + 1)]\n",
    "\n",
    "for x in memo:\n",
    "    x[-1] = lcs_memo(0, None)\n",
    "\n",
    "for i in range(len(memo[-1])):\n",
    "    memo[-1][i] = lcs_memo(0, None)"
   ]
  },
  {
   "cell_type": "code",
   "execution_count": 85,
   "metadata": {},
   "outputs": [],
   "source": [
    "for i in range(len(a), -1, -1):\n",
    "    for j in range(len(b), -1, -1):\n",
    "        memo[i][j] = lcs(i, j)"
   ]
  },
  {
   "cell_type": "code",
   "execution_count": 86,
   "metadata": {},
   "outputs": [
    {
     "data": {
      "text/plain": [
       "[[4, 3, 2, 1, 0],\n",
       " [3, 3, 2, 1, 0],\n",
       " [2, 2, 2, 1, 0],\n",
       " [1, 1, 1, 1, 0],\n",
       " [0, 0, 0, 0, 0]]"
      ]
     },
     "execution_count": 86,
     "metadata": {},
     "output_type": "execute_result"
    }
   ],
   "source": [
    "memo"
   ]
  },
  {
   "cell_type": "code",
   "execution_count": 88,
   "metadata": {},
   "outputs": [
    {
     "name": "stdout",
     "output_type": "stream",
     "text": [
      "abcd"
     ]
    }
   ],
   "source": [
    "parent = (0,0)\n",
    "while parent:\n",
    "    new_parent = memo[parent[0]][parent[1]].parent\n",
    "    if new_parent is None:\n",
    "        break\n",
    "    \n",
    "    if new_parent[0] - parent[0] == new_parent[1] - parent[1] == 1:\n",
    "        print(a[parent[0]], end=\"\")\n",
    "    parent = new_parent"
   ]
  },
  {
   "cell_type": "code",
   "execution_count": null,
   "metadata": {},
   "outputs": [],
   "source": []
  },
  {
   "cell_type": "code",
   "execution_count": 96,
   "metadata": {},
   "outputs": [],
   "source": [
    "from copy import deepcopy"
   ]
  },
  {
   "cell_type": "code",
   "execution_count": 104,
   "metadata": {},
   "outputs": [],
   "source": [
    "class TreeNode:\n",
    "    def __init__(self, val=0, left=None, right=None):\n",
    "        self.val = val\n",
    "        self.left = left\n",
    "        self.right = right\n",
    "\n",
    "class Solution:\n",
    "    def allPossibleFBT(self, n: int):\n",
    "        if n % 2 == 0:\n",
    "            return None\n",
    "\n",
    "        trees = [[]] * (n + 1)\n",
    "        trees[1] = [TreeNode()]\n",
    "\n",
    "        for i in range(3, n + 1, 2):\n",
    "            for j in range(1, i // 2 + 1, 2):\n",
    "                root = TreeNode()\n",
    "                left = j\n",
    "                right = n - j - 1\n",
    "                for ltree in trees[left]:\n",
    "                    for rtree in trees[right]:\n",
    "                        root.left = ltree\n",
    "                        root.right = rtree\n",
    "                trees[i].append(deepcopy(root))\n",
    "\n",
    "        return trees[n]"
   ]
  },
  {
   "cell_type": "code",
   "execution_count": 105,
   "metadata": {},
   "outputs": [],
   "source": [
    "s = Solution()"
   ]
  },
  {
   "cell_type": "code",
   "execution_count": 106,
   "metadata": {},
   "outputs": [
    {
     "data": {
      "text/plain": [
       "[<__main__.TreeNode at 0x11e6887afd0>,\n",
       " <__main__.TreeNode at 0x11e6887a070>,\n",
       " <__main__.TreeNode at 0x11e6887aca0>,\n",
       " <__main__.TreeNode at 0x11e68885520>]"
      ]
     },
     "execution_count": 106,
     "metadata": {},
     "output_type": "execute_result"
    }
   ],
   "source": [
    "s.allPossibleFBT(7)"
   ]
  },
  {
   "cell_type": "code",
   "execution_count": null,
   "metadata": {},
   "outputs": [],
   "source": []
  },
  {
   "cell_type": "code",
   "execution_count": 115,
   "metadata": {},
   "outputs": [],
   "source": [
    "source = \"abc\"\n",
    "target = \"yabd\""
   ]
  },
  {
   "cell_type": "code",
   "execution_count": 120,
   "metadata": {},
   "outputs": [],
   "source": [
    "def edit_distance(source, target):\n",
    "    E = [[None] * (len(target) + 1) for _ in range(len(source) + 1)]\n",
    "    for idx, row in enumerate(E[::-1]):\n",
    "        row[-1] = idx\n",
    "    for idx, col in enumerate(range(len(E[0]) - 1, -1, -1)):\n",
    "        E[-1][col] = idx\n",
    "    \n",
    "    for source_i in range(len(source) - 1, -1, -1):\n",
    "        for target_i in range(len(target) - 1, -1, -1):\n",
    "            if source[source_i] == target[target_i]:\n",
    "                E[source_i][target_i] = E[source_i + 1][target_i + 1]\n",
    "            else:\n",
    "                E[source_i][target_i] = 1 + min(\n",
    "                    E[source_i + 1][target_i], \n",
    "                    E[source_i + 1][target_i + 1], \n",
    "                    E[source_i][target_i + 1]\n",
    "                )\n",
    "                \n",
    "    for x in E:\n",
    "        print(x)\n",
    "    \n",
    "    return E"
   ]
  },
  {
   "cell_type": "code",
   "execution_count": 121,
   "metadata": {},
   "outputs": [
    {
     "name": "stdout",
     "output_type": "stream",
     "text": [
      "[2, 1, 2, 3, 3]\n",
      "[3, 2, 1, 2, 2]\n",
      "[4, 3, 2, 1, 1]\n",
      "[4, 3, 2, 1, 0]\n"
     ]
    },
    {
     "data": {
      "text/plain": [
       "[[2, 1, 2, 3, 3], [3, 2, 1, 2, 2], [4, 3, 2, 1, 1], [4, 3, 2, 1, 0]]"
      ]
     },
     "execution_count": 121,
     "metadata": {},
     "output_type": "execute_result"
    }
   ],
   "source": [
    "edit_distance(source, target)"
   ]
  },
  {
   "cell_type": "code",
   "execution_count": 122,
   "metadata": {},
   "outputs": [],
   "source": [
    "arr = [1, 2, 3, 4, 5, 6]"
   ]
  },
  {
   "cell_type": "code",
   "execution_count": 123,
   "metadata": {},
   "outputs": [
    {
     "ename": "TypeError",
     "evalue": "can only assign an iterable",
     "output_type": "error",
     "traceback": [
      "\u001b[1;31m---------------------------------------------------------------------------\u001b[0m",
      "\u001b[1;31mTypeError\u001b[0m                                 Traceback (most recent call last)",
      "\u001b[1;32m<ipython-input-123-504be3961b20>\u001b[0m in \u001b[0;36m<module>\u001b[1;34m\u001b[0m\n\u001b[1;32m----> 1\u001b[1;33m \u001b[0marr\u001b[0m\u001b[1;33m[\u001b[0m\u001b[1;36m4\u001b[0m\u001b[1;33m:\u001b[0m\u001b[1;36m6\u001b[0m\u001b[1;33m]\u001b[0m \u001b[1;33m=\u001b[0m \u001b[1;33m-\u001b[0m\u001b[1;36m1\u001b[0m\u001b[1;33m\u001b[0m\u001b[1;33m\u001b[0m\u001b[0m\n\u001b[0m",
      "\u001b[1;31mTypeError\u001b[0m: can only assign an iterable"
     ]
    }
   ],
   "source": [
    "arr[4:6] = -1"
   ]
  },
  {
   "cell_type": "code",
   "execution_count": 133,
   "metadata": {},
   "outputs": [],
   "source": [
    "def solve(A, B):\n",
    "    lit = [0] * len(A)\n",
    "\n",
    "    bulbs_lit = []\n",
    "\n",
    "    for i in range(len(A)):\n",
    "        if not lit[i]:\n",
    "            farthest_index = min(i + B - 1, len(A) - 1)\n",
    "            for j in range(farthest_index, i - 1, -1):\n",
    "                if A[j] == 1:\n",
    "                    bulbs_lit.append(j)\n",
    "                    for r in range(B):\n",
    "                        if j - r >= 0: lit[j - r] = 1\n",
    "                        if j + r < len(A): lit[j + r] = 1\n",
    "\n",
    "                    break\n",
    "                    \n",
    "    \n",
    "    if not lit[-1]: \n",
    "        for j in range(len(A) - B, len(A)):\n",
    "            if A[j] == 1:\n",
    "                bulbs_lit.append(j)\n",
    "                for r in range(B):\n",
    "                    if j - r >= 0: lit[j - r] = 1\n",
    "                    if j + r < len(A): lit[j + r] = 1\n",
    "\n",
    "                break\n",
    "            \n",
    "    print(A)\n",
    "    print(lit)\n",
    "    print(bulbs_lit)\n",
    "    \n",
    "    if sum(lit) != len(A): return -1\n",
    "    return len(bulbs_lit)"
   ]
  },
  {
   "cell_type": "code",
   "execution_count": 136,
   "metadata": {},
   "outputs": [],
   "source": [
    "A = [ 0, 0, 0, 1, 1, 0, 1, 0, 0, 0, 0, 0, 0, 1, 0, 0 ]\n",
    "B = 4"
   ]
  },
  {
   "cell_type": "code",
   "execution_count": 137,
   "metadata": {},
   "outputs": [
    {
     "name": "stdout",
     "output_type": "stream",
     "text": [
      "[0, 0, 0, 1, 1, 0, 1, 0, 0, 0, 0, 0, 0, 1, 0, 0]\n",
      "[1, 1, 1, 1, 1, 1, 1, 0, 0, 0, 1, 1, 1, 1, 1, 1]\n",
      "[3, 13]\n"
     ]
    },
    {
     "data": {
      "text/plain": [
       "2"
      ]
     },
     "execution_count": 137,
     "metadata": {},
     "output_type": "execute_result"
    }
   ],
   "source": [
    "solve(A, B)"
   ]
  },
  {
   "cell_type": "code",
   "execution_count": 138,
   "metadata": {},
   "outputs": [
    {
     "data": {
      "text/plain": [
       "132"
      ]
     },
     "execution_count": 138,
     "metadata": {},
     "output_type": "execute_result"
    }
   ],
   "source": [
    "66 << 1"
   ]
  },
  {
   "cell_type": "code",
   "execution_count": 152,
   "metadata": {},
   "outputs": [],
   "source": [
    "grid = [[1,2,3],[2,5,7],[3,5,1]]"
   ]
  },
  {
   "cell_type": "code",
   "execution_count": 153,
   "metadata": {},
   "outputs": [
    {
     "name": "stdout",
     "output_type": "stream",
     "text": [
      "[1, 2, 3]\n",
      "[2, 5, 7]\n",
      "[3, 5, 1]\n"
     ]
    }
   ],
   "source": [
    "for g in grid:\n",
    "    print(g)"
   ]
  },
  {
   "cell_type": "code",
   "execution_count": 158,
   "metadata": {},
   "outputs": [],
   "source": [
    "def dfs(grid, i, j, visited, thresh):\n",
    "    if i >= len(grid) or j >= len(grid[0]) or i < 0 or j < 0 or visited[i][j] or grid[i][j] >= thresh:\n",
    "        return\n",
    "    \n",
    "    visited[i][j] = True\n",
    "    \n",
    "    dfs(grid, i + 1, j, visited, thresh)\n",
    "    dfs(grid, i - 1, j, visited, thresh)\n",
    "    dfs(grid, i, j + 1, visited, thresh)\n",
    "    dfs(grid, i, j - 1, visited, thresh)\n",
    "     "
   ]
  },
  {
   "cell_type": "code",
   "execution_count": 159,
   "metadata": {},
   "outputs": [],
   "source": [
    "visited = [[False] * len(grid[0]) for _ in range(len(grid))]"
   ]
  },
  {
   "cell_type": "code",
   "execution_count": 160,
   "metadata": {},
   "outputs": [],
   "source": [
    "dfs(grid, 0, 0, visited, 5)"
   ]
  },
  {
   "cell_type": "code",
   "execution_count": 161,
   "metadata": {},
   "outputs": [
    {
     "name": "stdout",
     "output_type": "stream",
     "text": [
      "[True, True, True]\n",
      "[True, False, False]\n",
      "[True, False, False]\n"
     ]
    }
   ],
   "source": [
    "for x in visited:\n",
    "    print(x)"
   ]
  },
  {
   "cell_type": "code",
   "execution_count": 151,
   "metadata": {},
   "outputs": [
    {
     "data": {
      "text/plain": [
       "8"
      ]
     },
     "execution_count": 151,
     "metadata": {},
     "output_type": "execute_result"
    }
   ],
   "source": []
  },
  {
   "cell_type": "code",
   "execution_count": 173,
   "metadata": {},
   "outputs": [],
   "source": [
    "l = [i // 4 for i in range(20)]"
   ]
  },
  {
   "cell_type": "code",
   "execution_count": 176,
   "metadata": {},
   "outputs": [
    {
     "name": "stdout",
     "output_type": "stream",
     "text": [
      "0 0\n",
      "1 0\n",
      "2 0\n",
      "3 0\n",
      "4 1\n",
      "5 1\n",
      "6 1\n",
      "7 1\n",
      "8 2\n",
      "9 2\n",
      "10 2\n",
      "11 2\n",
      "12 3\n",
      "13 3\n",
      "14 3\n",
      "15 3\n",
      "16 4\n",
      "17 4\n",
      "18 4\n",
      "19 4\n"
     ]
    }
   ],
   "source": [
    "for idx, n in enumerate(l):\n",
    "    print(idx, n)"
   ]
  },
  {
   "cell_type": "code",
   "execution_count": 175,
   "metadata": {},
   "outputs": [],
   "source": [
    "from bisect import bisect_right, bisect_left"
   ]
  },
  {
   "cell_type": "code",
   "execution_count": 177,
   "metadata": {},
   "outputs": [
    {
     "data": {
      "text/plain": [
       "8"
      ]
     },
     "execution_count": 177,
     "metadata": {},
     "output_type": "execute_result"
    }
   ],
   "source": [
    "bisect_right(l, 1)"
   ]
  },
  {
   "cell_type": "code",
   "execution_count": 178,
   "metadata": {},
   "outputs": [
    {
     "data": {
      "text/plain": [
       "4"
      ]
     },
     "execution_count": 178,
     "metadata": {},
     "output_type": "execute_result"
    }
   ],
   "source": [
    "bisect_left(l, 1)"
   ]
  },
  {
   "cell_type": "code",
   "execution_count": 182,
   "metadata": {},
   "outputs": [],
   "source": [
    "c = 'a'"
   ]
  },
  {
   "cell_type": "code",
   "execution_count": 183,
   "metadata": {},
   "outputs": [
    {
     "data": {
      "text/plain": [
       "False"
      ]
     },
     "execution_count": 183,
     "metadata": {},
     "output_type": "execute_result"
    }
   ],
   "source": [
    "c.isdigit()"
   ]
  },
  {
   "cell_type": "code",
   "execution_count": 192,
   "metadata": {},
   "outputs": [],
   "source": [
    "def reorderLogs(A):\n",
    "    delimiter = '-'\n",
    "\n",
    "    digit_logs = []\n",
    "    letter_logs = []\n",
    "\n",
    "    for log in A:\n",
    "        splitted = log.split(delimiter)\n",
    "\n",
    "        all_digits = True\n",
    "        for i in range(1, len(splitted)):\n",
    "            word = splitted[i]\n",
    "            for c in word:\n",
    "                if not c.isdigit():\n",
    "                    all_digits = False\n",
    "                    break\n",
    "\n",
    "            if not all_digits:\n",
    "                break\n",
    "\n",
    "        if all_digits:\n",
    "            digit_logs.append((splitted[0], delimiter.join(splitted[1:])))\n",
    "        else:\n",
    "            letter_logs.append((splitted[0], delimiter.join(splitted[1:])))\n",
    "\n",
    "\n",
    "    letter_logs.sort(key=lambda x: (x[1], x[0]))\n",
    "    letter_logs.extend(digit_logs)\n",
    "\n",
    "    return [delimiter.join(log) for log in letter_logs]"
   ]
  },
  {
   "cell_type": "code",
   "execution_count": 193,
   "metadata": {},
   "outputs": [],
   "source": [
    "A = [\"a1-9-2-3-1\",\"g1-act-car\",\"zo4-4-7\",\"ab1-off-key-dog\",\"a8-act-zoo\"]"
   ]
  },
  {
   "cell_type": "code",
   "execution_count": 194,
   "metadata": {},
   "outputs": [
    {
     "data": {
      "text/plain": [
       "['g1-act-car', 'a8-act-zoo', 'ab1-off-key-dog', 'a1-9-2-3-1', 'zo4-4-7']"
      ]
     },
     "execution_count": 194,
     "metadata": {},
     "output_type": "execute_result"
    }
   ],
   "source": [
    "reorderLogs(A)"
   ]
  },
  {
   "cell_type": "code",
   "execution_count": 196,
   "metadata": {},
   "outputs": [],
   "source": [
    "A = [3,5,4,2]"
   ]
  },
  {
   "cell_type": "code",
   "execution_count": 204,
   "metadata": {},
   "outputs": [],
   "source": [
    "def maximumGap(A):\n",
    "    A_plus_index = list(enumerate(A))\n",
    "    A_plus_index.sort(key=lambda x: x[1])\n",
    "    \n",
    "    max_j_i = 0\n",
    "    for index, value in A_plus_index:\n",
    "        for j in range(len(A) - 1, index - 1, -1):\n",
    "            if A[j] >= A[i]:\n",
    "                max_j_i = max(max_j_i, j - i)\n",
    "                break\n",
    "    \n",
    "    return max_j_i"
   ]
  },
  {
   "cell_type": "code",
   "execution_count": 205,
   "metadata": {},
   "outputs": [
    {
     "data": {
      "text/plain": [
       "2"
      ]
     },
     "execution_count": 205,
     "metadata": {},
     "output_type": "execute_result"
    }
   ],
   "source": [
    "maximumGap(A)"
   ]
  },
  {
   "cell_type": "code",
   "execution_count": 212,
   "metadata": {},
   "outputs": [],
   "source": [
    "from enum import Enum\n",
    "class Direction(Enum):\n",
    "    RIGHT = 1\n",
    "    BOTTOM = 2\n",
    "    LEFT = 3\n",
    "    UP = 4\n",
    "\n",
    "def generateMatrix(A):\n",
    "    num_rows = num_cols = A\n",
    "    top_left, top_right, bottom_left, bottom_right = (0, 0), (0, num_cols - 1), (num_rows - 1, 0), (num_rows - 1, num_cols - 1)\n",
    "\n",
    "    matrix = [[None] * num_cols for _ in range(num_rows)]\n",
    "\n",
    "    direction = Direction.RIGHT\n",
    "\n",
    "    num_el = 1\n",
    "    while num_el <= A * A:\n",
    "        if direction == Direction.RIGHT:\n",
    "            for i in range(top_left[1], top_right[1] + 1):\n",
    "                matrix[top_left[0]][i] = num_el\n",
    "                num_el += 1\n",
    "\n",
    "            direction = Direction.BOTTOM\n",
    "            top_left = (top_left[0] + 1, top_left[1])\n",
    "            top_right = (top_right[0] + 1, top_right[1])\n",
    "\n",
    "        if direction == Direction.BOTTOM:\n",
    "            for i in range(top_right[0], bottom_right[0] + 1):\n",
    "                matrix[i][top_right[1]] = num_el\n",
    "                num_el += 1\n",
    "\n",
    "            direction = Direction.LEFT\n",
    "            bottom_right = (bottom_right[0], bottom_right[1] - 1)\n",
    "            top_right = (top_right[0], top_right[1] - 1)\n",
    "\n",
    "        if direction == Direction.LEFT:\n",
    "            for i in range(bottom_right[1], bottom_left[1] - 1, -1):\n",
    "                matrix[bottom_right[0]][i] = num_el\n",
    "                num_el += 1\n",
    "\n",
    "            direction = Direction.UP\n",
    "            bottom_left = (bottom_left[0] - 1, bottom_left[1])\n",
    "            bottom_right = (bottom_right[0] - 1, bottom_right[1])\n",
    "\n",
    "        if direction == Direction.UP:\n",
    "            for i in range(bottom_left[0], top_left[0] - 1, -1):\n",
    "                matrix[i][top_left[1]] = num_el\n",
    "                num_el += 1\n",
    "\n",
    "            direction = Direction.RIGHT\n",
    "            bottom_left = (bottom_left[0], bottom_left[1] + 1)\n",
    "            top_left = (top_left[0], top_left[1] + 1)\n",
    "\n",
    "    return matrix\n"
   ]
  },
  {
   "cell_type": "code",
   "execution_count": 214,
   "metadata": {},
   "outputs": [
    {
     "data": {
      "text/plain": [
       "[[1, 2, 3, 4, 5, 6],\n",
       " [20, 21, 22, 23, 24, 7],\n",
       " [19, 32, 33, 34, 25, 8],\n",
       " [18, 31, 36, 35, 26, 9],\n",
       " [17, 30, 29, 28, 27, 10],\n",
       " [16, 15, 14, 13, 12, 11]]"
      ]
     },
     "execution_count": 214,
     "metadata": {},
     "output_type": "execute_result"
    }
   ],
   "source": [
    "generateMatrix(6)"
   ]
  },
  {
   "cell_type": "code",
   "execution_count": 260,
   "metadata": {},
   "outputs": [],
   "source": [
    "def firstMissingPositive(Ac):\n",
    "    A = deepcopy(Ac)\n",
    "    for i in range(len(A)):\n",
    "        if A[i] <= 0:\n",
    "            A[i] = len(A) + 1\n",
    "\n",
    "    for i in range(len(A)):\n",
    "        index = abs(A[i])\n",
    "        if 0 < index <= len(A):\n",
    "            if A[index - 1] > 0: A[index - 1] *= -1\n",
    "\n",
    "    for i in range(len(A)):\n",
    "        if A[i] > 0:\n",
    "            return i + 1\n",
    "\n",
    "        \n",
    "    return len(A) + 1"
   ]
  },
  {
   "cell_type": "code",
   "execution_count": 261,
   "metadata": {},
   "outputs": [],
   "source": [
    "def firstMissingPositiveB(Ac):\n",
    "    A = deepcopy(Ac)\n",
    "    A.sort()\n",
    "    ans=1\n",
    "    for i in range(len(A)):\n",
    "        if A[i]==ans:\n",
    "            ans= ans + 1\n",
    "            \n",
    "    return ans"
   ]
  },
  {
   "cell_type": "code",
   "execution_count": 262,
   "metadata": {},
   "outputs": [],
   "source": [
    "A = [ 699, 2, 690, 936, 319, 784, 562, 35, 151, 698, 126, 730, 587, 157, 201, 761, 956, 359, 198, 986, 915, 7, 703, 324, 814, 382, 294, 204, 120, 731, 615, 330, 486, 52, 223, 376, 649, 458, 564, 971, 72, 605, 177, 20, 461, 790, 872, 363, 916, 435, 991, 184, 410, 320, 16, 480, 768, 801, 117, 338, 650, 786, 17, 369, 979, 304, 445, 688, 862, 229, 311, 351, 985, 697, 135, 299, 310, 3, 643, 221, 831, 196, 887, 679, 484, 209, 824, 292, 588, 721, 140, 675, 827, 913, 271, 170, 812, 552, 334, 860, 981, 550, 308, 584, 442, 328, 251, 456, 976, 31, 507, 954, 982, 742, 45, 727, 794, 309, 527, 623, 56, 843, 436, 681, 143, 130, 689, 870, 362, 580, 560, 474, 385, 525, 881, 51, 890, 917, 820, 826, 139, 443, 978, 144, 512, 205, 682, 188, 344, 429, 497, 181, 749, 864, 664, 145, 621, 629, 886, 572, 89, 725, 945, 29, 553, 977, 783, 590, 236, 728, 125, 90, 492, 261, 543, 259, 662, 622, 285, 392, 561, 670, 200, 504, 246, 513, 910, 583, 460, 179, 207, 709, 127, 926, 816, 426, 520, 174, 464, 883, 780, 5, 268, 606, 1, 109, 704, 391, 661, 924, 516, 241, 477, 952, 405, 522, 247, 335, 356, 839, 423, 779, 4, 43, 720, 238, 965, 951, 914, 10, 496, 775, 651, 788, 373, 491, 746, 799, 518, 93, 86, 774, 652, 955, 494, 252, 781, 946, 412, 202, 741, 719, 612, 673, 896, 1000, 289, 554, 69, 424, 980, 506, 593, 889, 25, 959, 28, 736, 8, 969, 865, 657, 567, 434, 9, 167, 357, 929, 645, 250, 565, 94, 928, 473, 509, 823, 313, 762, -1, 208, 903, 922, 655, 948, 326, 485, 150, 73, 505, 225, 122, 129, 648, 838, 811, 972, 735, 78, 428, 740, 782, 632, 316, 440, 737, 297, 873, 281, 479, 654, 0, 633, 212, 152, 154, 470, 866, 79, 722, 958, 732, 900, 832, 278, 58, 842, 745, 540, 169, 347, 592, 438, 882, 462, 53, 34, 519, 489, 85, 757, 919, 701, 15, 211, 667, 637, 74, 573, 240, 559, -2, 472, 203, 112, 162, 776, -4, 155, 837, 99, 98, 64, 101, 983, 366, 853, 970, 482, 40, 921, 374, 758, 413, 339, 705, 771, 360, 734, 282, 219, 766, 535, 133, 532, 254 ]"
   ]
  },
  {
   "cell_type": "code",
   "execution_count": 263,
   "metadata": {},
   "outputs": [
    {
     "data": {
      "text/plain": [
       "6"
      ]
     },
     "execution_count": 263,
     "metadata": {},
     "output_type": "execute_result"
    }
   ],
   "source": [
    "firstMissingPositiveB(A)"
   ]
  },
  {
   "cell_type": "code",
   "execution_count": 264,
   "metadata": {},
   "outputs": [
    {
     "name": "stdout",
     "output_type": "stream",
     "text": [
      "[-699, -2, -690, -936, -319, 784, -562, -35, -151, -698, 126, 730, 587, 157, -201, -761, -956, 359, 198, -986, 915, 7, 703, 324, -814, 382, 294, -204, -120, 731, -615, 330, 486, -52, -223, 376, 649, 458, 564, -971, 72, 605, -177, 20, -461, 790, 872, 363, 916, 435, -991, -184, -410, 320, 16, -480, 768, -801, 117, 338, 650, 786, 17, -369, 979, 304, 445, 688, -862, 229, 311, -351, -985, -697, 135, 299, 310, -3, -643, 221, 831, 196, 887, 679, -484, -209, 824, 292, -588, -721, 140, 675, -827, -913, 271, 170, 812, -552, -334, 860, -981, 550, 308, 584, 442, 328, 251, 456, -976, 31, 507, -954, 982, 742, 45, 727, -794, 309, 527, -623, 56, -843, 436, 681, -143, -130, -689, 870, -362, -580, 560, 474, -385, 525, -881, 51, 890, 917, -820, -826, 139, 443, -978, -144, -512, 205, 682, 188, 344, -429, -497, -181, 749, -864, -664, 145, -621, 629, 886, 572, 89, -725, 945, 29, 553, 977, -783, 590, -236, -728, 125, 90, 492, -261, 543, 259, -662, 622, -285, 392, -561, 670, 200, -504, 246, 513, 910, -583, 460, 179, 207, 709, 127, 926, 816, -426, 520, -174, 464, -883, -780, -5, -268, -606, -1, 109, -704, -391, -661, 924, -516, -241, 477, 952, 405, 522, 247, 335, -356, 839, -423, 779, -4, 43, -720, 238, 965, 951, -914, 10, 496, 775, 651, 788, 373, -491, 746, -799, 518, -93, -86, 774, 652, 955, 494, -252, -781, 946, 412, -202, -741, -719, 612, -673, 896, 1000, 289, 554, -69, 424, -980, 506, 593, 889, 25, 959, 28, -736, 8, 969, -865, 657, 567, 434, 9, 167, 357, -929, 645, 250, -565, -94, 928, 473, -509, 823, 313, 762, -396, 208, 903, -922, 655, -948, 326, 485, -150, 73, -505, 225, 122, 129, 648, -838, 811, 972, 735, -78, -428, -740, -782, 632, -316, 440, 737, -297, 873, 281, -479, -654, 396, 633, 212, -152, 154, -470, 866, -79, 722, -958, 732, 900, 832, -278, -58, 842, 745, -540, -169, 347, 592, 438, 882, -462, 53, 34, -519, 489, 85, 757, -919, 701, 15, 211, 667, -637, -74, 573, -240, -559, 396, -472, -203, 112, 162, -776, 396, 155, -837, 99, 98, 64, -101, -983, 366, -853, 970, 482, 40, 921, 374, -758, 413, 339, -705, 771, 360, 734, 282, 219, -766, -535, 133, 532, 254]\n"
     ]
    },
    {
     "data": {
      "text/plain": [
       "6"
      ]
     },
     "execution_count": 264,
     "metadata": {},
     "output_type": "execute_result"
    }
   ],
   "source": [
    "firstMissingPositive(A)"
   ]
  },
  {
   "cell_type": "code",
   "execution_count": null,
   "metadata": {},
   "outputs": [],
   "source": []
  },
  {
   "cell_type": "code",
   "execution_count": 278,
   "metadata": {},
   "outputs": [],
   "source": [
    "def lcs(a, b):\n",
    "        memo = [[None] * (len(b) + 1) for _ in range(len(a) + 1)]\n",
    "        for row in range(len(memo)):\n",
    "            memo[row][-1] = 0\n",
    "        for col in range(len(memo[0])):\n",
    "            memo[-1][col] = 0\n",
    "\n",
    "        for i in range(len(memo) - 2, -1, -1):\n",
    "            for j in range(len(memo[0]) - 2, -1, -1):\n",
    "                if a[i] == b[j]:\n",
    "                    memo[i][j] = 1 + memo[i + 1][j + 1]\n",
    "                else:\n",
    "                    memo[i][j] = max(memo[i][j + 1], memo[i + 1][j], memo[i + 1][j + 1])\n",
    "\n",
    "        return memo[0][0]"
   ]
  },
  {
   "cell_type": "code",
   "execution_count": 279,
   "metadata": {},
   "outputs": [
    {
     "data": {
      "text/plain": [
       "5"
      ]
     },
     "execution_count": 279,
     "metadata": {},
     "output_type": "execute_result"
    }
   ],
   "source": [
    "lcs('michaelangelo', 'hieroglyphology')"
   ]
  },
  {
   "cell_type": "code",
   "execution_count": 286,
   "metadata": {},
   "outputs": [],
   "source": [
    "def num_distinct(source, target):\n",
    "        memo = [[None] * (len(target) + 1) for _ in range(len(source) + 1)]\n",
    "        for col in range(len(memo[-1])):\n",
    "            memo[-1][col] = 0\n",
    "        for row in range(len(memo)):\n",
    "            memo[row][-1] = 1\n",
    "\n",
    "        for i in range(len(memo) - 2, -1, -1):\n",
    "            for j in range(len(memo[0]) - 2, -1, -1):\n",
    "                if source[i] == target[j]:\n",
    "                    memo[i][j] = memo[i + 1][j + 1] + memo[i + 1][j]\n",
    "                else:\n",
    "                    memo[i][j] = memo[i + 1][j]\n",
    "\n",
    "        return memo #[0][0]"
   ]
  },
  {
   "cell_type": "code",
   "execution_count": 288,
   "metadata": {},
   "outputs": [
    {
     "data": {
      "text/plain": [
       "[[0, 0, 0, 3, 1, 1, 1],\n",
       " [0, 0, 0, 3, 1, 1, 1],\n",
       " [0, 0, 0, 3, 1, 1, 1],\n",
       " [0, 0, 0, 2, 1, 1, 1],\n",
       " [0, 0, 0, 1, 1, 1, 1],\n",
       " [0, 0, 0, 0, 1, 1, 1],\n",
       " [0, 0, 0, 0, 0, 1, 1],\n",
       " [0, 0, 0, 0, 0, 0, 1]]"
      ]
     },
     "execution_count": 288,
     "metadata": {},
     "output_type": "execute_result"
    }
   ],
   "source": [
    "num_distinct('rabbbit', 'raxbit')"
   ]
  },
  {
   "cell_type": "code",
   "execution_count": 294,
   "metadata": {},
   "outputs": [],
   "source": [
    "from bisect import bisect_right"
   ]
  },
  {
   "cell_type": "code",
   "execution_count": 308,
   "metadata": {},
   "outputs": [],
   "source": [
    "def anyTwo(A):\n",
    "        index_map = {}\n",
    "        for idx, c in enumerate(A):\n",
    "            if c in index_map:\n",
    "                index_map[c].append(idx)\n",
    "            else:\n",
    "                index_map[c] = [idx]\n",
    "\n",
    "        for i in range(len(A)):\n",
    "            curr_char = A[i]\n",
    "\n",
    "            next_occur_idx = bisect_right(index_map[curr_char], i)\n",
    "            next_occur_idx = index_map[curr_char][next_occur_idx] if next_occur_idx < len(index_map[curr_char]) else None\n",
    "            if next_occur_idx is None:\n",
    "                continue\n",
    "\n",
    "            for j in range(i + 1, len(A)):\n",
    "                candidate_char = A[j]\n",
    "\n",
    "                search_idx = max(j, next_occur_idx)\n",
    "                next_repeat_idx = bisect_right(index_map[candidate_char], search_idx)\n",
    "                if next_repeat_idx < len(index_map[candidate_char]):\n",
    "                    print(curr_char, candidate_char, next_occur_idx, index_map[candidate_char][next_repeat_idx])\n",
    "                    return True\n",
    "\n",
    "        return False"
   ]
  },
  {
   "cell_type": "code",
   "execution_count": 309,
   "metadata": {},
   "outputs": [
    {
     "data": {
      "text/plain": [
       "False"
      ]
     },
     "execution_count": 309,
     "metadata": {},
     "output_type": "execute_result"
    }
   ],
   "source": [
    "anyTwo(\"abba\")"
   ]
  },
  {
   "cell_type": "code",
   "execution_count": 317,
   "metadata": {},
   "outputs": [],
   "source": [
    "def lcs(a, b):\n",
    "        memo = [[None] * (len(b) + 1) for _ in range(len(a) + 1)]\n",
    "        for row in range(len(memo)):\n",
    "            memo[row][-1] = 0\n",
    "        for col in range(len(memo[0])):\n",
    "            memo[-1][col] = 0\n",
    "\n",
    "        for i in range(len(memo) - 2, -1, -1):\n",
    "            for j in range(len(memo[0]) - 2, -1, -1):\n",
    "                if a[i] == b[j] and i != j:\n",
    "                    memo[i][j] = 1 + memo[i + 1][j + 1]\n",
    "                else:\n",
    "                    memo[i][j] = max(memo[i][j + 1], memo[i + 1][j], memo[i + 1][j + 1])\n",
    "\n",
    "        return memo"
   ]
  },
  {
   "cell_type": "code",
   "execution_count": 318,
   "metadata": {},
   "outputs": [],
   "source": [
    "A = \"hellohello\""
   ]
  },
  {
   "cell_type": "code",
   "execution_count": 319,
   "metadata": {},
   "outputs": [
    {
     "data": {
      "text/plain": [
       "[[5, 5, 5, 5, 5, 5, 4, 3, 2, 1, 0],\n",
       " [5, 4, 4, 4, 4, 4, 4, 3, 2, 1, 0],\n",
       " [5, 4, 3, 3, 3, 3, 3, 3, 2, 1, 0],\n",
       " [5, 4, 3, 2, 2, 2, 2, 2, 2, 1, 0],\n",
       " [5, 4, 3, 2, 1, 1, 1, 1, 1, 1, 0],\n",
       " [5, 4, 3, 2, 1, 1, 1, 1, 1, 0, 0],\n",
       " [4, 4, 3, 2, 1, 1, 1, 1, 1, 0, 0],\n",
       " [3, 3, 3, 2, 1, 1, 1, 1, 1, 0, 0],\n",
       " [2, 2, 2, 2, 1, 1, 1, 1, 0, 0, 0],\n",
       " [1, 1, 1, 1, 1, 0, 0, 0, 0, 0, 0],\n",
       " [0, 0, 0, 0, 0, 0, 0, 0, 0, 0, 0]]"
      ]
     },
     "execution_count": 319,
     "metadata": {},
     "output_type": "execute_result"
    }
   ],
   "source": [
    "lcs(A, A)"
   ]
  },
  {
   "cell_type": "code",
   "execution_count": 331,
   "metadata": {},
   "outputs": [],
   "source": [
    "def lis(a):\n",
    "        a = a + chr(ord('z') + 1)\n",
    "        memo = [None] * len(a)\n",
    "        memo[-1] = 0\n",
    "\n",
    "        for j in range(len(a) - 2, -1, -1):\n",
    "            memo[j] = 1 + max(memo[idx] for idx in range(j + 1, len(a)) if a[idx] > a[j])\n",
    "\n",
    "        return memo"
   ]
  },
  {
   "cell_type": "code",
   "execution_count": 332,
   "metadata": {},
   "outputs": [
    {
     "data": {
      "text/plain": [
       "[5, 4, 3, 3, 2, 2, 1, 0]"
      ]
     },
     "execution_count": 332,
     "metadata": {},
     "output_type": "execute_result"
    }
   ],
   "source": [
    "lis(\"empathy\")"
   ]
  },
  {
   "cell_type": "code",
   "execution_count": null,
   "metadata": {},
   "outputs": [],
   "source": []
  },
  {
   "cell_type": "code",
   "execution_count": 405,
   "metadata": {},
   "outputs": [],
   "source": [
    "def knapsack(cur_idx, values, weights, W, memo):\n",
    "    if cur_idx < 0 or cur_idx >= len(values) or W < weights[cur_idx]:\n",
    "        return 0\n",
    "    \n",
    "    if (cur_idx, W) in memo:\n",
    "        return memo[(cur_idx, W)]\n",
    "    \n",
    "    select_cur_idx_value = values[cur_idx] + knapsack(cur_idx + 1, values, weights, W - weights[cur_idx], memo)\n",
    "    ignore_cur_idx_value = knapsack(cur_idx + 1, values, weights, W, memo)\n",
    "    \n",
    "    memo[(cur_idx, W - weights[cur_idx])] = max(select_cur_idx_value, memo.get((cur_idx, W - weights[cur_idx]), 0))\n",
    "    memo[(cur_idx, W)] = max(ignore_cur_idx_value, memo.get((cur_idx, W), 0))\n",
    "        \n",
    "    return max(select_cur_idx_value, ignore_cur_idx_value)"
   ]
  },
  {
   "cell_type": "code",
   "execution_count": 381,
   "metadata": {},
   "outputs": [],
   "source": [
    "def knapsack_DP(values, weights, W):\n",
    "    memo = [None] * \n",
    "    "
   ]
  },
  {
   "cell_type": "code",
   "execution_count": 406,
   "metadata": {},
   "outputs": [],
   "source": [
    "A = [ 359, 963, 465, 706, 146, 282, 828, 962, 492 ]\n",
    "B = [ 96, 43, 28, 37, 92, 5, 3, 54, 93 ]\n",
    "C = 383"
   ]
  },
  {
   "cell_type": "code",
   "execution_count": 408,
   "metadata": {},
   "outputs": [],
   "source": [
    "A = [ 377, 932, 309, 945, 440, 627, 324, 538, 539, 119, 83, 930, 542, 834, 116, 640, 659, 705, 931, 978, 307, 674, 387, 22, 746, 925, 73, 271, 830, 778, 574, 98, 513, 987, 291, 162, 637, 356, 768, 656, 575, 32, 53, 351, 151, 942, 725, 967, 431, 108, 192, 8, 338, 458, 288, 754, 384, 946, 910, 210, 759, 222, 589, 423, 947, 507, 31 ]\n",
    "B = [ 14, 19, 1, 42, 13, 6, 11, 10, 25, 38, 49, 34, 46, 42, 3, 1, 42, 37, 25, 21, 47, 22, 49, 50, 19, 35, 32, 35, 4, 50, 19, 39, 1, 39, 28, 18, 29, 44, 49, 34, 8, 22, 11, 18, 14, 15, 10, 17, 36, 2, 1, 50, 20, 7, 49, 4, 25, 9, 45, 10, 40, 3, 46, 36, 44, 44, 24 ]\n",
    "C = 588"
   ]
  },
  {
   "cell_type": "code",
   "execution_count": 372,
   "metadata": {},
   "outputs": [],
   "source": [
    "B = [1, 2, 4, 5]\n",
    "A = [5, 4, 8, 6]\n",
    "C = 5"
   ]
  },
  {
   "cell_type": "code",
   "execution_count": 409,
   "metadata": {},
   "outputs": [
    {
     "data": {
      "text/plain": [
       "27260"
      ]
     },
     "execution_count": 409,
     "metadata": {},
     "output_type": "execute_result"
    }
   ],
   "source": [
    "memo = {}\n",
    "\n",
    "knapsack(0, A, B, C, memo)"
   ]
  },
  {
   "cell_type": "code",
   "execution_count": 410,
   "metadata": {},
   "outputs": [
    {
     "data": {
      "text/plain": [
       "{(28, 4): 830,\n",
       " (28, 8): 0,\n",
       " (28, 39): 830,\n",
       " (28, 43): 830,\n",
       " (27, 8): 1101,\n",
       " (27, 43): 1101,\n",
       " (26, 11): 73,\n",
       " (26, 43): 1101,\n",
       " (25, 8): 925,\n",
       " (25, 43): 2026,\n",
       " (28, 23): 830,\n",
       " (28, 27): 0,\n",
       " (36, 10): 637,\n",
       " (36, 39): 637,\n",
       " (35, 21): 162,\n",
       " (35, 39): 637,\n",
       " (34, 11): 291,\n",
       " (34, 39): 928,\n",
       " (33, 0): 987,\n",
       " (33, 39): 1915,\n",
       " (32, 38): 513,\n",
       " (32, 39): 987,\n",
       " (31, 0): 98,\n",
       " (31, 39): 1085,\n",
       " (32, 18): 513,\n",
       " (32, 19): 0,\n",
       " (36, 0): 637,\n",
       " (36, 29): 637,\n",
       " (35, 11): 162,\n",
       " (35, 29): 799,\n",
       " (47, 6): 967,\n",
       " (47, 23): 0,\n",
       " (46, 13): 725,\n",
       " (46, 23): 967,\n",
       " (45, 8): 942,\n",
       " (45, 23): 1909,\n",
       " (44, 9): 151,\n",
       " (44, 23): 967,\n",
       " (43, 5): 351,\n",
       " (43, 23): 1318,\n",
       " (42, 12): 53,\n",
       " (42, 23): 1371,\n",
       " (41, 1): 32,\n",
       " (41, 23): 967,\n",
       " (40, 15): 575,\n",
       " (40, 23): 1542,\n",
       " (46, 2): 725,\n",
       " (46, 12): 0,\n",
       " (47, 0): 967,\n",
       " (47, 17): 967,\n",
       " (47, 10): 967,\n",
       " (47, 27): 967,\n",
       " (46, 17): 1692,\n",
       " (46, 27): 1692,\n",
       " (45, 12): 1667,\n",
       " (45, 27): 1692,\n",
       " (44, 13): 151,\n",
       " (44, 27): 1692,\n",
       " (43, 9): 351,\n",
       " (43, 27): 1692,\n",
       " (42, 16): 53,\n",
       " (42, 27): 1692,\n",
       " (47, 3): 967,\n",
       " (47, 20): 0,\n",
       " (46, 10): 725,\n",
       " (46, 20): 967,\n",
       " (45, 5): 942,\n",
       " (45, 20): 1909,\n",
       " (44, 6): 151,\n",
       " (44, 20): 2060,\n",
       " (47, 7): 967,\n",
       " (47, 24): 0,\n",
       " (46, 14): 725,\n",
       " (46, 24): 967,\n",
       " (45, 9): 942,\n",
       " (45, 24): 1909,\n",
       " (47, 11): 967,\n",
       " (47, 28): 0,\n",
       " (50, 1): 192,\n",
       " (50, 2): 192,\n",
       " (49, 0): 108,\n",
       " (49, 2): 192,\n",
       " (50, 35): 192,\n",
       " (50, 36): 0,\n",
       " (50, 37): 192,\n",
       " (50, 38): 192,\n",
       " (49, 36): 300,\n",
       " (49, 38): 192,\n",
       " (48, 2): 623,\n",
       " (48, 38): 623,\n",
       " (47, 21): 967,\n",
       " (47, 38): 1267,\n",
       " (46, 28): 1692,\n",
       " (46, 38): 967,\n",
       " (45, 38): 1909,\n",
       " (44, 24): 1118,\n",
       " (44, 38): 2060,\n",
       " (43, 20): 1318,\n",
       " (43, 38): 2411,\n",
       " (45, 2): 942,\n",
       " (45, 17): 2634,\n",
       " (46, 6): 725,\n",
       " (46, 16): 725,\n",
       " (47, 14): 967,\n",
       " (47, 31): 967,\n",
       " (46, 21): 1692,\n",
       " (46, 31): 1692,\n",
       " (45, 16): 1667,\n",
       " (45, 31): 1909,\n",
       " (44, 17): 1843,\n",
       " (44, 31): 2060,\n",
       " (47, 8): 967,\n",
       " (47, 25): 967,\n",
       " (47, 18): 967,\n",
       " (47, 35): 967,\n",
       " (46, 25): 1692,\n",
       " (46, 35): 967,\n",
       " (45, 35): 1909,\n",
       " (47, 34): 967,\n",
       " (46, 34): 967,\n",
       " (50, 3): 0,\n",
       " (49, 1): 300,\n",
       " (49, 3): 192,\n",
       " (50, 39): 0,\n",
       " (49, 37): 300,\n",
       " (49, 39): 192,\n",
       " (48, 3): 731,\n",
       " (48, 39): 623,\n",
       " (47, 22): 967,\n",
       " (47, 39): 1267,\n",
       " (50, 10): 192,\n",
       " (50, 11): 0,\n",
       " (50, 12): 192,\n",
       " (50, 13): 192,\n",
       " (49, 11): 300,\n",
       " (49, 13): 192,\n",
       " (50, 46): 192,\n",
       " (50, 47): 0,\n",
       " (50, 48): 192,\n",
       " (50, 49): 192,\n",
       " (49, 47): 300,\n",
       " (49, 49): 192,\n",
       " (48, 13): 731,\n",
       " (48, 49): 623,\n",
       " (47, 32): 967,\n",
       " (47, 49): 731,\n",
       " (46, 39): 1692,\n",
       " (46, 49): 1456,\n",
       " (45, 34): 1909,\n",
       " (45, 49): 1909,\n",
       " (44, 35): 2060,\n",
       " (44, 49): 1909,\n",
       " (43, 31): 2194,\n",
       " (43, 49): 2260,\n",
       " (42, 38): 1962,\n",
       " (42, 49): 2313,\n",
       " (41, 27): 1724,\n",
       " (41, 49): 2345,\n",
       " (43, 6): 351,\n",
       " (43, 24): 1469,\n",
       " (43, 17): 2194,\n",
       " (43, 35): 2411,\n",
       " (42, 24): 1171,\n",
       " (42, 35): 2194,\n",
       " (45, 13): 1667,\n",
       " (45, 28): 2634,\n",
       " (44, 14): 151,\n",
       " (44, 28): 2785,\n",
       " (46, 22): 1692,\n",
       " (46, 32): 1692,\n",
       " (45, 32): 2634,\n",
       " (48, 0): 431,\n",
       " (48, 36): 731,\n",
       " (47, 19): 967,\n",
       " (47, 36): 1267,\n",
       " (50, 7): 192,\n",
       " (50, 8): 192,\n",
       " (49, 8): 300,\n",
       " (49, 10): 192,\n",
       " (50, 43): 192,\n",
       " (50, 44): 192,\n",
       " (49, 44): 300,\n",
       " (49, 46): 192,\n",
       " (48, 10): 731,\n",
       " (48, 46): 623,\n",
       " (47, 29): 967,\n",
       " (47, 46): 1267,\n",
       " (46, 36): 1692,\n",
       " (46, 46): 1992,\n",
       " (45, 46): 1909,\n",
       " (44, 32): 2785,\n",
       " (44, 46): 2060,\n",
       " (43, 28): 2043,\n",
       " (43, 46): 2785,\n",
       " (45, 10): 1667,\n",
       " (45, 25): 2634,\n",
       " (45, 39): 2634,\n",
       " (44, 25): 1843,\n",
       " (44, 39): 1909,\n",
       " (47, 16): 967,\n",
       " (47, 33): 967,\n",
       " (50, 4): 192,\n",
       " (50, 5): 192,\n",
       " (49, 5): 300,\n",
       " (49, 7): 300,\n",
       " (50, 40): 192,\n",
       " (50, 41): 192,\n",
       " (49, 41): 300,\n",
       " (49, 43): 300,\n",
       " (48, 7): 731,\n",
       " (48, 43): 731,\n",
       " (47, 26): 967,\n",
       " (47, 43): 1267,\n",
       " (46, 33): 1692,\n",
       " (46, 43): 1456,\n",
       " (45, 43): 1909,\n",
       " (50, 6): 0,\n",
       " (49, 4): 300,\n",
       " (49, 6): 192,\n",
       " (50, 42): 0,\n",
       " (49, 40): 300,\n",
       " (49, 42): 192,\n",
       " (48, 6): 731,\n",
       " (48, 42): 623,\n",
       " (47, 42): 1267,\n",
       " (46, 42): 967,\n",
       " (48, 11): 731,\n",
       " (48, 47): 731,\n",
       " (47, 30): 967,\n",
       " (47, 47): 1267,\n",
       " (48, 4): 731,\n",
       " (48, 40): 731,\n",
       " (50, 18): 192,\n",
       " (50, 19): 0,\n",
       " (50, 20): 192,\n",
       " (50, 21): 192,\n",
       " (49, 19): 300,\n",
       " (49, 21): 192,\n",
       " (53, 27): 458,\n",
       " (53, 34): 458,\n",
       " (55, 1): 754,\n",
       " (55, 5): 754,\n",
       " (57, 16): 946,\n",
       " (57, 25): 946,\n",
       " (61, 37): 222,\n",
       " (61, 40): 0,\n",
       " (60, 0): 759,\n",
       " (60, 40): 759,\n",
       " (61, 7): 222,\n",
       " (61, 10): 0,\n",
       " (66, 23): 31,\n",
       " (66, 47): 31,\n",
       " (65, 3): 507,\n",
       " (65, 47): 538,\n",
       " (64, 3): 947,\n",
       " (64, 47): 978,\n",
       " (63, 11): 423,\n",
       " (63, 47): 947,\n",
       " (62, 1): 589,\n",
       " (62, 47): 1536,\n",
       " (66, 26): 31,\n",
       " (66, 50): 31,\n",
       " (65, 6): 507,\n",
       " (65, 50): 538,\n",
       " (64, 6): 947,\n",
       " (64, 50): 978,\n",
       " (63, 14): 423,\n",
       " (63, 50): 947,\n",
       " (62, 4): 589,\n",
       " (62, 50): 1536,\n",
       " (61, 47): 1169,\n",
       " (61, 50): 947,\n",
       " (60, 10): 981,\n",
       " (60, 50): 1706,\n",
       " (59, 40): 969,\n",
       " (59, 50): 1379,\n",
       " (58, 5): 910,\n",
       " (58, 50): 2289,\n",
       " (57, 41): 946,\n",
       " (57, 50): 2115,\n",
       " (56, 25): 1330,\n",
       " (56, 50): 2499,\n",
       " (57, 20): 946,\n",
       " (57, 29): 946,\n",
       " (61, 2): 222,\n",
       " (61, 5): 222,\n",
       " (61, 42): 222,\n",
       " (61, 45): 222,\n",
       " (60, 5): 981,\n",
       " (60, 45): 981,\n",
       " (59, 35): 210,\n",
       " (59, 45): 981,\n",
       " (58, 0): 910,\n",
       " (58, 45): 1891,\n",
       " (61, 1): 222,\n",
       " (61, 4): 0,\n",
       " (61, 41): 222,\n",
       " (61, 44): 0,\n",
       " (60, 4): 981,\n",
       " (60, 44): 759,\n",
       " (61, 11): 222,\n",
       " (61, 14): 222,\n",
       " (66, 27): 31,\n",
       " (66, 51): 31,\n",
       " (65, 7): 507,\n",
       " (65, 51): 538,\n",
       " (64, 7): 947,\n",
       " (64, 51): 978,\n",
       " (63, 15): 423,\n",
       " (63, 51): 947,\n",
       " (62, 5): 589,\n",
       " (62, 51): 1536,\n",
       " (66, 30): 31,\n",
       " (66, 54): 31,\n",
       " (65, 10): 507,\n",
       " (65, 54): 538,\n",
       " (64, 10): 947,\n",
       " (64, 54): 978,\n",
       " (63, 18): 423,\n",
       " (63, 54): 947,\n",
       " (62, 8): 589,\n",
       " (62, 54): 1536,\n",
       " (61, 51): 1169,\n",
       " (61, 54): 1169,\n",
       " (60, 14): 981,\n",
       " (60, 54): 1928,\n",
       " (59, 44): 1191,\n",
       " (59, 54): 1379,\n",
       " (58, 9): 910,\n",
       " (58, 54): 2289,\n",
       " (57, 45): 1927,\n",
       " (57, 54): 2137,\n",
       " (56, 29): 1330,\n",
       " (56, 54): 2521,\n",
       " (55, 50): 2084,\n",
       " (55, 54): 2681,\n",
       " (54, 5): 1042,\n",
       " (54, 54): 2969,\n",
       " (53, 47): 458,\n",
       " (53, 54): 2542,\n",
       " (52, 34): 796,\n",
       " (52, 54): 2880,\n",
       " (51, 4): 8,\n",
       " (51, 54): 2888,\n",
       " (53, 28): 458,\n",
       " (53, 35): 458,\n",
       " (55, 2): 754,\n",
       " (55, 6): 754,\n",
       " (57, 17): 946,\n",
       " (57, 26): 946,\n",
       " (60, 1): 759,\n",
       " (60, 41): 981,\n",
       " (60, 11): 981,\n",
       " (60, 51): 1928,\n",
       " (59, 41): 969,\n",
       " (59, 51): 1379,\n",
       " (58, 6): 910,\n",
       " (58, 51): 2289,\n",
       " (57, 42): 946,\n",
       " (57, 51): 2115,\n",
       " (56, 26): 1330,\n",
       " (56, 51): 2499,\n",
       " (57, 21): 946,\n",
       " (57, 30): 946,\n",
       " (61, 3): 222,\n",
       " (61, 6): 222,\n",
       " (66, 22): 31,\n",
       " (66, 46): 31,\n",
       " (65, 2): 507,\n",
       " (65, 46): 538,\n",
       " (64, 2): 947,\n",
       " (64, 46): 978,\n",
       " (63, 10): 423,\n",
       " (63, 46): 947,\n",
       " (62, 0): 589,\n",
       " (62, 46): 1536,\n",
       " (61, 43): 222,\n",
       " (61, 46): 1169,\n",
       " (60, 6): 981,\n",
       " (60, 46): 1928,\n",
       " (59, 36): 210,\n",
       " (59, 46): 1157,\n",
       " (58, 1): 910,\n",
       " (58, 46): 2067,\n",
       " (59, 0): 210,\n",
       " (59, 10): 210,\n",
       " (61, 12): 222,\n",
       " (61, 15): 222,\n",
       " (66, 28): 31,\n",
       " (66, 52): 31,\n",
       " (65, 8): 507,\n",
       " (65, 52): 538,\n",
       " (64, 8): 947,\n",
       " (64, 52): 978,\n",
       " (63, 16): 423,\n",
       " (63, 52): 947,\n",
       " (62, 6): 589,\n",
       " (62, 52): 1536,\n",
       " (66, 31): 31,\n",
       " (66, 55): 31,\n",
       " (65, 11): 507,\n",
       " (65, 55): 538,\n",
       " (64, 11): 947,\n",
       " (64, 55): 978,\n",
       " (63, 19): 423,\n",
       " (63, 55): 947,\n",
       " (62, 9): 589,\n",
       " (62, 55): 1536,\n",
       " (61, 52): 1169,\n",
       " (61, 55): 1169,\n",
       " (60, 15): 981,\n",
       " (60, 55): 1928,\n",
       " (59, 55): 1379,\n",
       " (58, 10): 1120,\n",
       " (58, 55): 2289,\n",
       " (57, 46): 1927,\n",
       " (57, 55): 2115,\n",
       " (56, 30): 1330,\n",
       " (56, 55): 2499,\n",
       " (55, 51): 2084,\n",
       " (55, 55): 2681,\n",
       " (54, 6): 1042,\n",
       " (54, 55): 2969,\n",
       " (53, 48): 458,\n",
       " (53, 55): 2542,\n",
       " (52, 35): 796,\n",
       " (52, 55): 2880,\n",
       " (51, 5): 8,\n",
       " (51, 55): 2888,\n",
       " (50, 54): 2276,\n",
       " (50, 55): 2084,\n",
       " (53, 29): 458,\n",
       " (53, 36): 458,\n",
       " (56, 20): 1330,\n",
       " (56, 45): 2311,\n",
       " (57, 15): 946,\n",
       " (57, 24): 946,\n",
       " (61, 9): 0,\n",
       " (66, 25): 31,\n",
       " (66, 49): 31,\n",
       " (65, 5): 507,\n",
       " (65, 49): 538,\n",
       " (64, 5): 947,\n",
       " (64, 49): 978,\n",
       " (63, 13): 423,\n",
       " (63, 49): 947,\n",
       " (62, 3): 589,\n",
       " (62, 49): 1536,\n",
       " (61, 49): 947,\n",
       " (60, 9): 981,\n",
       " (60, 49): 1706,\n",
       " (59, 39): 210,\n",
       " (59, 49): 1379,\n",
       " (58, 4): 910,\n",
       " (58, 49): 2289,\n",
       " (57, 40): 946,\n",
       " (57, 49): 2115,\n",
       " (56, 24): 1330,\n",
       " (56, 49): 2499,\n",
       " (55, 45): 2681,\n",
       " (55, 49): 1330,\n",
       " (54, 0): 288,\n",
       " (54, 49): 2681,\n",
       " (55, 3): 754,\n",
       " (55, 7): 754,\n",
       " (57, 18): 946,\n",
       " (57, 27): 946,\n",
       " (60, 2): 759,\n",
       " (60, 42): 981,\n",
       " (60, 12): 981,\n",
       " (60, 52): 1928,\n",
       " (59, 42): 969,\n",
       " (59, 52): 1379,\n",
       " (58, 7): 910,\n",
       " (58, 52): 2289,\n",
       " (57, 43): 946,\n",
       " (57, 52): 2115,\n",
       " (56, 27): 1330,\n",
       " (56, 52): 2499,\n",
       " (57, 22): 946,\n",
       " (57, 31): 0,\n",
       " (60, 7): 981,\n",
       " (60, 47): 1928,\n",
       " (59, 37): 210,\n",
       " (59, 47): 1379,\n",
       " (58, 2): 910,\n",
       " (58, 47): 2289,\n",
       " (59, 1): 210,\n",
       " (59, 11): 210,\n",
       " (61, 13): 222,\n",
       " (61, 16): 222,\n",
       " (66, 29): 31,\n",
       " (66, 53): 31,\n",
       " (65, 9): 507,\n",
       " (65, 53): 538,\n",
       " (64, 9): 947,\n",
       " (64, 53): 978,\n",
       " (63, 17): 423,\n",
       " (63, 53): 947,\n",
       " (62, 7): 589,\n",
       " (62, 53): 1536,\n",
       " (66, 32): 31,\n",
       " (66, 56): 31,\n",
       " (65, 12): 507,\n",
       " (65, 56): 538,\n",
       " (64, 12): 947,\n",
       " (64, 56): 978,\n",
       " (63, 20): 423,\n",
       " (63, 56): 947,\n",
       " (62, 10): 589,\n",
       " (62, 56): 1536,\n",
       " (61, 53): 1169,\n",
       " (61, 56): 1169,\n",
       " (60, 16): 981,\n",
       " (60, 56): 1928,\n",
       " (59, 56): 1379,\n",
       " (58, 11): 1120,\n",
       " (58, 56): 2289,\n",
       " (57, 47): 2115,\n",
       " (57, 56): 2115,\n",
       " (56, 31): 1330,\n",
       " (56, 56): 2499,\n",
       " (55, 52): 2084,\n",
       " (55, 56): 2869,\n",
       " (54, 7): 1042,\n",
       " (54, 56): 3157,\n",
       " (53, 49): 3139,\n",
       " (53, 56): 2573,\n",
       " (52, 36): 796,\n",
       " (52, 56): 3139,\n",
       " (51, 6): 8,\n",
       " (51, 56): 3147,\n",
       " (53, 30): 458,\n",
       " (53, 37): 458,\n",
       " (54, 1): 288,\n",
       " (54, 50): 2372,\n",
       " (55, 4): 754,\n",
       " (55, 8): 754,\n",
       " (57, 19): 946,\n",
       " (57, 28): 946,\n",
       " (60, 3): 981,\n",
       " (60, 43): 981,\n",
       " (60, 13): 981,\n",
       " (60, 53): 1928,\n",
       " (59, 43): 1191,\n",
       " (59, 53): 1379,\n",
       " (58, 8): 910,\n",
       " (58, 53): 2289,\n",
       " (57, 44): 946,\n",
       " (57, 53): 2137,\n",
       " (56, 28): 1330,\n",
       " (56, 53): 2521,\n",
       " (57, 23): 946,\n",
       " (57, 32): 0,\n",
       " (61, 8): 0,\n",
       " (66, 24): 31,\n",
       " (66, 48): 31,\n",
       " (65, 4): 507,\n",
       " (65, 48): 538,\n",
       " (64, 4): 947,\n",
       " (64, 48): 978,\n",
       " (63, 12): 423,\n",
       " (63, 48): 947,\n",
       " (62, 2): 589,\n",
       " (62, 48): 1536,\n",
       " (61, 48): 947,\n",
       " (60, 8): 981,\n",
       " (60, 48): 1706,\n",
       " (59, 38): 210,\n",
       " (59, 48): 1157,\n",
       " (58, 3): 910,\n",
       " (58, 48): 2067,\n",
       " (59, 2): 210,\n",
       " (59, 12): 210,\n",
       " (61, 17): 222,\n",
       " (66, 33): 31,\n",
       " (66, 57): 31,\n",
       " (65, 13): 507,\n",
       " (65, 57): 538,\n",
       " (64, 13): 947,\n",
       " (64, 57): 978,\n",
       " (63, 21): 423,\n",
       " (63, 57): 947,\n",
       " (62, 11): 589,\n",
       " (62, 57): 1536,\n",
       " (61, 57): 1169,\n",
       " (60, 17): 981,\n",
       " (60, 57): 1928,\n",
       " (59, 57): 1379,\n",
       " (58, 12): 1120,\n",
       " (58, 57): 2289,\n",
       " (57, 48): 1927,\n",
       " (57, 57): 2325,\n",
       " (56, 32): 1330,\n",
       " (56, 57): 2709,\n",
       " (55, 53): 2084,\n",
       " (55, 57): 2681,\n",
       " (54, 8): 1042,\n",
       " (54, 57): 2969,\n",
       " (53, 50): 2542,\n",
       " (53, 57): 2542,\n",
       " (52, 37): 796,\n",
       " (52, 57): 2880,\n",
       " (51, 7): 8,\n",
       " (51, 57): 2888,\n",
       " (50, 56): 3331,\n",
       " (50, 57): 2734,\n",
       " (49, 55): 2384,\n",
       " (49, 57): 3331,\n",
       " (48, 21): 731,\n",
       " (48, 57): 3762,\n",
       " (47, 40): 1698,\n",
       " (47, 57): 4298,\n",
       " (46, 47): 1692,\n",
       " (46, 57): 4056,\n",
       " (45, 42): 2634,\n",
       " (45, 57): 4998,\n",
       " (44, 43): 2785,\n",
       " (44, 57): 3482,\n",
       " (43, 39): 2260,\n",
       " (43, 57): 3833,\n",
       " (42, 46): 2838,\n",
       " (42, 57): 3384,\n",
       " (41, 35): 2226,\n",
       " (41, 57): 3416,\n",
       " (40, 49): 2769,\n",
       " (40, 57): 3906,\n",
       " (39, 23): 1623,\n",
       " (39, 57): 4562,\n",
       " (38, 8): 768,\n",
       " (38, 57): 5330,\n",
       " (37, 13): 356,\n",
       " (37, 57): 5686,\n",
       " (36, 28): 637,\n",
       " (36, 57): 3968,\n",
       " (35, 57): 4130,\n",
       " (34, 29): 928,\n",
       " (34, 57): 3622,\n",
       " (33, 18): 987,\n",
       " (33, 57): 4609,\n",
       " (36, 1): 637,\n",
       " (36, 30): 637,\n",
       " (35, 12): 162,\n",
       " (35, 30): 637,\n",
       " (36, 11): 637,\n",
       " (36, 40): 637,\n",
       " (41, 2): 32,\n",
       " (41, 24): 1171,\n",
       " (40, 16): 575,\n",
       " (40, 24): 1746,\n",
       " (42, 17): 53,\n",
       " (42, 28): 2043,\n",
       " (45, 21): 2634,\n",
       " (45, 36): 2634,\n",
       " (50, 14): 192,\n",
       " (49, 12): 300,\n",
       " (49, 14): 192,\n",
       " (52, 30): 796,\n",
       " (52, 50): 2880,\n",
       " (51, 0): 8,\n",
       " (51, 50): 2888,\n",
       " (50, 50): 2734,\n",
       " (49, 48): 300,\n",
       " (49, 50): 2542,\n",
       " (48, 14): 731,\n",
       " (48, 50): 2973,\n",
       " (47, 50): 3509,\n",
       " (46, 40): 2423,\n",
       " (46, 50): 4234,\n",
       " (45, 50): 5176,\n",
       " (44, 36): 2785,\n",
       " (44, 50): 2693,\n",
       " (43, 32): 3136,\n",
       " (43, 50): 3044,\n",
       " (42, 39): 2313,\n",
       " (42, 50): 3136,\n",
       " (41, 28): 2075,\n",
       " (41, 50): 3168,\n",
       " (43, 7): 351,\n",
       " (43, 25): 1843,\n",
       " (46, 8): 725,\n",
       " (46, 18): 967,\n",
       " (45, 3): 942,\n",
       " (45, 18): 1909,\n",
       " (44, 4): 151,\n",
       " (44, 18): 967,\n",
       " (43, 18): 1318,\n",
       " (43, 36): 3136,\n",
       " (42, 25): 1896,\n",
       " (42, 36): 2785,\n",
       " (46, 5): 725,\n",
       " (46, 15): 0,\n",
       " (45, 0): 942,\n",
       " (45, 15): 942,\n",
       " (46, 19): 1692,\n",
       " (46, 29): 967,\n",
       " (45, 14): 1667,\n",
       " (45, 29): 1909,\n",
       " (44, 15): 1093,\n",
       " (44, 29): 1692,\n",
       " (45, 33): 2634,\n",
       " (45, 47): 2634,\n",
       " (44, 33): 2060,\n",
       " (44, 47): 2634,\n",
       " (43, 29): 2043,\n",
       " (43, 47): 2985,\n",
       " (46, 1): 725,\n",
       " (46, 11): 0,\n",
       " (46, 26): 967,\n",
       " (45, 11): 1667,\n",
       " (45, 26): 1909,\n",
       " (45, 40): 3365,\n",
       " (44, 26): 1818,\n",
       " (44, 40): 2634,\n",
       " (48, 8): 731,\n",
       " (48, 44): 731,\n",
       " (47, 44): 1267,\n",
       " (46, 44): 1992,\n",
       " (45, 44): 2934,\n",
       " (48, 12): 731,\n",
       " (48, 48): 731,\n",
       " (47, 48): 731,\n",
       " (48, 5): 731,\n",
       " (48, 41): 731,\n",
       " (50, 22): 192,\n",
       " (49, 20): 300,\n",
       " (49, 22): 192,\n",
       " (53, 31): 458,\n",
       " (53, 38): 0,\n",
       " (54, 2): 288,\n",
       " (54, 51): 2372,\n",
       " (55, 9): 754,\n",
       " (57, 33): 0,\n",
       " (59, 3): 210,\n",
       " (59, 13): 210,\n",
       " (61, 18): 222,\n",
       " (66, 34): 31,\n",
       " (66, 58): 31,\n",
       " (65, 14): 507,\n",
       " (65, 58): 538,\n",
       " (64, 14): 947,\n",
       " (64, 58): 978,\n",
       " (63, 22): 423,\n",
       " (63, 58): 947,\n",
       " (62, 12): 589,\n",
       " (62, 58): 1536,\n",
       " (61, 58): 1169,\n",
       " (60, 18): 981,\n",
       " (60, 58): 1928,\n",
       " (59, 58): 1379,\n",
       " (58, 13): 1120,\n",
       " (58, 58): 2289,\n",
       " (57, 58): 2115,\n",
       " (56, 33): 1330,\n",
       " (56, 58): 2499,\n",
       " (55, 58): 2869,\n",
       " (54, 9): 1042,\n",
       " (54, 58): 3157,\n",
       " (53, 51): 2542,\n",
       " (53, 58): 3139,\n",
       " (52, 38): 796,\n",
       " (52, 58): 3477,\n",
       " (51, 8): 8,\n",
       " (51, 58): 3485,\n",
       " (50, 58): 2873,\n",
       " (49, 56): 3439,\n",
       " (49, 58): 2734,\n",
       " (48, 22): 731,\n",
       " (48, 58): 3439,\n",
       " (47, 41): 1698,\n",
       " (47, 58): 4406,\n",
       " (46, 48): 1692,\n",
       " (46, 58): 4164,\n",
       " (45, 58): 5106,\n",
       " (44, 44): 2060,\n",
       " (44, 58): 3590,\n",
       " (43, 40): 2985,\n",
       " (43, 58): 3941,\n",
       " (42, 47): 2687,\n",
       " (42, 58): 3492,\n",
       " (41, 36): 2817,\n",
       " (41, 58): 3524,\n",
       " (40, 50): 3711,\n",
       " (40, 58): 4014,\n",
       " (39, 24): 1827,\n",
       " (39, 58): 4670,\n",
       " (38, 9): 768,\n",
       " (38, 58): 4479,\n",
       " (37, 14): 356,\n",
       " (37, 58): 4835,\n",
       " (36, 58): 4348,\n",
       " (35, 40): 799,\n",
       " (35, 58): 4510,\n",
       " (34, 30): 928,\n",
       " (34, 58): 4002,\n",
       " (33, 19): 987,\n",
       " (33, 58): 4989,\n",
       " (32, 57): 3844,\n",
       " (32, 58): 3711,\n",
       " (31, 19): 611,\n",
       " (31, 58): 3844,\n",
       " (30, 39): 1561,\n",
       " (30, 58): 4418,\n",
       " (29, 8): 778,\n",
       " (29, 58): 5196,\n",
       " (32, 3): 513,\n",
       " (32, 4): 0,\n",
       " (36, 13): 637,\n",
       " (36, 42): 637,\n",
       " (35, 24): 162,\n",
       " (35, 42): 637,\n",
       " (34, 14): 291,\n",
       " (34, 42): 928,\n",
       " (33, 3): 987,\n",
       " (33, 42): 1915,\n",
       " (36, 14): 637,\n",
       " (36, 43): 637,\n",
       " (35, 25): 162,\n",
       " (35, 43): 637,\n",
       " (34, 15): 291,\n",
       " (34, 43): 928,\n",
       " (33, 4): 987,\n",
       " (33, 43): 1624,\n",
       " (32, 42): 1500,\n",
       " (32, 43): 987,\n",
       " (31, 4): 611,\n",
       " (31, 43): 1500,\n",
       " (32, 22): 513,\n",
       " (32, 23): 0,\n",
       " (36, 4): 637,\n",
       " (36, 33): 637,\n",
       " (35, 15): 162,\n",
       " (35, 33): 799,\n",
       " (40, 19): 575,\n",
       " (40, 27): 2299,\n",
       " (42, 20): 1371,\n",
       " (42, 31): 2194,\n",
       " (44, 42): 2785,\n",
       " (43, 42): 3136,\n",
       " (50, 15): 0,\n",
       " (50, 16): 192,\n",
       " (50, 17): 0,\n",
       " (49, 15): 300,\n",
       " (49, 17): 192,\n",
       " (52, 31): 796,\n",
       " (52, 51): 2880,\n",
       " (51, 1): 8,\n",
       " (51, 51): 2888,\n",
       " (50, 51): 2542,\n",
       " (53, 25): 458,\n",
       " (53, 32): 458,\n",
       " (54, 3): 288,\n",
       " (54, 52): 2372,\n",
       " (53, 45): 458,\n",
       " (53, 52): 2542,\n",
       " (52, 32): 796,\n",
       " (52, 52): 2880,\n",
       " (51, 2): 8,\n",
       " (51, 52): 2888,\n",
       " (53, 26): 458,\n",
       " (53, 33): 458,\n",
       " (54, 4): 1042,\n",
       " (54, 53): 2372,\n",
       " (53, 46): 458,\n",
       " (53, 53): 2542,\n",
       " (52, 33): 796,\n",
       " (52, 53): 2880,\n",
       " (51, 3): 8,\n",
       " (51, 53): 2888,\n",
       " (50, 52): 2276,\n",
       " (50, 53): 2084,\n",
       " (49, 51): 2842,\n",
       " (49, 53): 2276,\n",
       " (48, 17): 731,\n",
       " (48, 53): 2842,\n",
       " (47, 53): 2842,\n",
       " (46, 53): 3567,\n",
       " (45, 53): 4509,\n",
       " (44, 53): 2993,\n",
       " (43, 53): 3344,\n",
       " (42, 42): 2838,\n",
       " (42, 53): 2895,\n",
       " (41, 31): 2226,\n",
       " (41, 53): 2927,\n",
       " (48, 15): 731,\n",
       " (48, 51): 3273,\n",
       " (47, 51): 3809,\n",
       " (50, 23): 0,\n",
       " (50, 24): 192,\n",
       " (50, 25): 192,\n",
       " (49, 23): 300,\n",
       " (49, 25): 300,\n",
       " (53, 39): 0,\n",
       " (55, 10): 754,\n",
       " (57, 34): 0,\n",
       " (59, 4): 210,\n",
       " (59, 14): 210,\n",
       " (61, 19): 222,\n",
       " (66, 35): 31,\n",
       " (66, 59): 31,\n",
       " (65, 15): 507,\n",
       " (65, 59): 538,\n",
       " (64, 15): 947,\n",
       " (64, 59): 978,\n",
       " (63, 23): 423,\n",
       " (63, 59): 947,\n",
       " (62, 13): 589,\n",
       " (62, 59): 1536,\n",
       " (61, 59): 1169,\n",
       " (60, 19): 981,\n",
       " (60, 59): 1928,\n",
       " (59, 59): 1379,\n",
       " (58, 14): 1120,\n",
       " (58, 59): 2289,\n",
       " (57, 59): 2325,\n",
       " (56, 34): 1330,\n",
       " (56, 59): 2709,\n",
       " (55, 59): 2869,\n",
       " (54, 10): 1042,\n",
       " (54, 59): 3157,\n",
       " (53, 59): 3139,\n",
       " (52, 39): 796,\n",
       " (52, 59): 3477,\n",
       " (51, 9): 8,\n",
       " (51, 59): 3485,\n",
       " (50, 59): 2681,\n",
       " (53, 40): 0,\n",
       " (55, 11): 754,\n",
       " (57, 35): 0,\n",
       " (59, 5): 210,\n",
       " (59, 15): 210,\n",
       " (61, 20): 222,\n",
       " (66, 36): 31,\n",
       " (66, 60): 31,\n",
       " (65, 16): 507,\n",
       " (65, 60): 538,\n",
       " (64, 16): 947,\n",
       " (64, 60): 978,\n",
       " (63, 24): 423,\n",
       " (63, 60): 947,\n",
       " (62, 14): 589,\n",
       " (62, 60): 1536,\n",
       " (61, 60): 1169,\n",
       " (60, 20): 981,\n",
       " (60, 60): 1928,\n",
       " (59, 60): 1379,\n",
       " (58, 15): 1120,\n",
       " (58, 60): 2289,\n",
       " (57, 60): 2325,\n",
       " (56, 35): 1330,\n",
       " (56, 60): 2709,\n",
       " (55, 60): 2869,\n",
       " (54, 11): 1042,\n",
       " (54, 60): 3157,\n",
       " (53, 60): 3327,\n",
       " (52, 40): 796,\n",
       " (52, 60): 3665,\n",
       " (51, 10): 8,\n",
       " (51, 60): 3673,\n",
       " (53, 41): 0,\n",
       " (55, 12): 754,\n",
       " (57, 36): 0,\n",
       " (59, 6): 210,\n",
       " (59, 16): 210,\n",
       " (61, 21): 222,\n",
       " (66, 37): 31,\n",
       " (66, 61): 31,\n",
       " (65, 17): 507,\n",
       " (65, 61): 538,\n",
       " (64, 17): 947,\n",
       " (64, 61): 978,\n",
       " (63, 25): 423,\n",
       " (63, 61): 947,\n",
       " (62, 15): 589,\n",
       " (62, 61): 1536,\n",
       " (61, 61): 1169,\n",
       " (60, 21): 981,\n",
       " (60, 61): 1928,\n",
       " (59, 61): 1379,\n",
       " (58, 16): 1120,\n",
       " (58, 61): 2289,\n",
       " (57, 61): 2325,\n",
       " (56, 36): 1330,\n",
       " (56, 61): 2709,\n",
       " (55, 61): 2869,\n",
       " (54, 12): 1042,\n",
       " (54, 61): 3157,\n",
       " (53, 61): 3139,\n",
       " (52, 41): 796,\n",
       " (52, 61): 3477,\n",
       " (51, 11): 8,\n",
       " (51, 61): 3485,\n",
       " (50, 60): 3061,\n",
       " (50, 61): 2873,\n",
       " (49, 59): 2981,\n",
       " (49, 61): 3061,\n",
       " (48, 25): 731,\n",
       " (48, 61): 3492,\n",
       " (47, 61): 4028,\n",
       " (46, 51): 3567,\n",
       " ...}"
      ]
     },
     "execution_count": 410,
     "metadata": {},
     "output_type": "execute_result"
    }
   ],
   "source": [
    "memo"
   ]
  },
  {
   "cell_type": "code",
   "execution_count": null,
   "metadata": {},
   "outputs": [],
   "source": []
  },
  {
   "cell_type": "code",
   "execution_count": null,
   "metadata": {},
   "outputs": [],
   "source": []
  },
  {
   "cell_type": "code",
   "execution_count": null,
   "metadata": {},
   "outputs": [],
   "source": []
  },
  {
   "cell_type": "code",
   "execution_count": 419,
   "metadata": {},
   "outputs": [],
   "source": [
    "A = [4, 6]\n",
    "B = [1, 3]\n",
    "C = [5, 3]"
   ]
  },
  {
   "cell_type": "code",
   "execution_count": 424,
   "metadata": {},
   "outputs": [],
   "source": [
    "def solve( A, B, C):\n",
    "    max_capacity = max(A)\n",
    "    min_cost_memo = [None] * (1 + max_capacity)\n",
    "    min_cost_memo[0] = 0\n",
    "\n",
    "    item_weight_to_cost = {}\n",
    "    for i in range(len(B)):\n",
    "        if B[i] not in item_weight_to_cost:\n",
    "            item_weight_to_cost[B[i]] = C[i]\n",
    "        else:\n",
    "            item_weight_to_cost[B[i]] = min(C[i], item_weight_to_cost[B[i]])\n",
    "\n",
    "            \n",
    "    for i in range(1, max_capacity + 1):\n",
    "        min_cost = float('inf')\n",
    "        for j in range(i):\n",
    "            if i - j in item_weight_to_cost:\n",
    "                print(min_cost_memo)\n",
    "                min_cost = min(min_cost, min_cost_memo[j] + item_weight_to_cost[i - j])\n",
    "                \n",
    "        min_cost_memo[i] = min_cost\n",
    "        \n",
    "    return min_cost_memo"
   ]
  },
  {
   "cell_type": "code",
   "execution_count": 425,
   "metadata": {},
   "outputs": [
    {
     "name": "stdout",
     "output_type": "stream",
     "text": [
      "[0, None, None, None, None, None, None]\n",
      "[0, 5, None, None, None, None, None]\n",
      "[0, 5, 10, None, None, None, None]\n",
      "[0, 5, 10, None, None, None, None]\n",
      "[0, 5, 10, 3, None, None, None]\n",
      "[0, 5, 10, 3, None, None, None]\n",
      "[0, 5, 10, 3, 8, None, None]\n",
      "[0, 5, 10, 3, 8, None, None]\n",
      "[0, 5, 10, 3, 8, 13, None]\n",
      "[0, 5, 10, 3, 8, 13, None]\n"
     ]
    },
    {
     "data": {
      "text/plain": [
       "[0, 5, 10, 3, 8, 13, 6]"
      ]
     },
     "execution_count": 425,
     "metadata": {},
     "output_type": "execute_result"
    }
   ],
   "source": [
    "solve(A, B, C)"
   ]
  },
  {
   "cell_type": "code",
   "execution_count": null,
   "metadata": {},
   "outputs": [],
   "source": []
  },
  {
   "cell_type": "code",
   "execution_count": null,
   "metadata": {},
   "outputs": [],
   "source": []
  },
  {
   "cell_type": "code",
   "execution_count": null,
   "metadata": {},
   "outputs": [],
   "source": []
  },
  {
   "cell_type": "code",
   "execution_count": null,
   "metadata": {},
   "outputs": [],
   "source": []
  },
  {
   "cell_type": "code",
   "execution_count": null,
   "metadata": {},
   "outputs": [],
   "source": []
  },
  {
   "cell_type": "code",
   "execution_count": 488,
   "metadata": {},
   "outputs": [],
   "source": [
    "def color(A, i, j):\n",
    "    return sum(A[k] for k in range(i, j + 1)) % 100\n",
    "\n",
    "def minSmoke(A):\n",
    "    min_smoke = [[None] * len(A) for _ in range(len(A))]\n",
    "\n",
    "    for substring_len in range(1, len(A) + 1):\n",
    "        for i in range(0, len(A) - substring_len + 1):\n",
    "            j = i + substring_len - 1\n",
    "\n",
    "            if substring_len == 1:\n",
    "                min_smoke[i][j] = 0\n",
    "\n",
    "            elif substring_len == 2:\n",
    "                min_smoke[i][j] = A[i] * A[j]\n",
    "              \n",
    "            else:\n",
    "#                 try:\n",
    "                min_smoke[i][j] = min(min_smoke[i][k] + min_smoke[k + 1][j] + color(A, i, k) * color(A, k + 1, j) for k in range(i, j))\n",
    "#                 except:\n",
    "#                     for x in min_smoke:\n",
    "#                         print(x)\n",
    "#                     print(i, j)\n",
    "#                     return None\n",
    "                \n",
    "    for x in min_smoke:\n",
    "        print(x)\n",
    "    return min_smoke"
   ]
  },
  {
   "cell_type": "code",
   "execution_count": 489,
   "metadata": {},
   "outputs": [
    {
     "data": {
      "text/plain": [
       "4"
      ]
     },
     "execution_count": 489,
     "metadata": {},
     "output_type": "execute_result"
    }
   ],
   "source": [
    "len(A)"
   ]
  },
  {
   "cell_type": "code",
   "execution_count": 492,
   "metadata": {},
   "outputs": [],
   "source": [
    "A = [ 49, 85, 29, 85, 41, 93, 22, 28, 99, 87, 68, 72, 60, 90 ]\n",
    "# A = [2, 3, 4, 5]"
   ]
  },
  {
   "cell_type": "code",
   "execution_count": 493,
   "metadata": {},
   "outputs": [
    {
     "name": "stdout",
     "output_type": "stream",
     "text": [
      "[0, 4165, 3151, 7106, 8274, 10251, 11655, 11767, 14535, 16832, 18056, 19648, 23128, 24548]\n",
      "[None, 0, 2465, 3655, 6314, 8634, 8960, 10500, 13217, 14851, 16643, 19207, 19747, 22057]\n",
      "[None, None, 0, 2465, 3039, 6454, 5910, 7870, 10572, 12011, 14523, 17167, 18507, 19067]\n",
      "[None, None, None, 0, 3485, 5903, 5921, 7069, 9800, 11616, 13856, 15412, 18112, 18962]\n",
      "[None, None, None, None, 0, 3813, 2661, 4229, 6945, 8566, 11826, 14562, 15062, 15762]\n",
      "[None, None, None, None, None, 0, 2046, 2466, 5223, 7377, 8249, 13433, 13873, 14983]\n",
      "[None, None, None, None, None, None, 0, 616, 3366, 5429, 7877, 8165, 11925, 12965]\n",
      "[None, None, None, None, None, None, None, 0, 2772, 5121, 6073, 10577, 11617, 12877]\n",
      "[None, None, None, None, None, None, None, None, 0, 8613, 11361, 11049, 12609, 17749]\n",
      "[None, None, None, None, None, None, None, None, None, 0, 5916, 8376, 6496, 14326]\n",
      "[None, None, None, None, None, None, None, None, None, None, 0, 4896, 6496, 6496]\n",
      "[None, None, None, None, None, None, None, None, None, None, None, 0, 4320, 7200]\n",
      "[None, None, None, None, None, None, None, None, None, None, None, None, 0, 5400]\n",
      "[None, None, None, None, None, None, None, None, None, None, None, None, None, 0]\n"
     ]
    },
    {
     "data": {
      "text/plain": [
       "[[0,\n",
       "  4165,\n",
       "  3151,\n",
       "  7106,\n",
       "  8274,\n",
       "  10251,\n",
       "  11655,\n",
       "  11767,\n",
       "  14535,\n",
       "  16832,\n",
       "  18056,\n",
       "  19648,\n",
       "  23128,\n",
       "  24548],\n",
       " [None,\n",
       "  0,\n",
       "  2465,\n",
       "  3655,\n",
       "  6314,\n",
       "  8634,\n",
       "  8960,\n",
       "  10500,\n",
       "  13217,\n",
       "  14851,\n",
       "  16643,\n",
       "  19207,\n",
       "  19747,\n",
       "  22057],\n",
       " [None,\n",
       "  None,\n",
       "  0,\n",
       "  2465,\n",
       "  3039,\n",
       "  6454,\n",
       "  5910,\n",
       "  7870,\n",
       "  10572,\n",
       "  12011,\n",
       "  14523,\n",
       "  17167,\n",
       "  18507,\n",
       "  19067],\n",
       " [None,\n",
       "  None,\n",
       "  None,\n",
       "  0,\n",
       "  3485,\n",
       "  5903,\n",
       "  5921,\n",
       "  7069,\n",
       "  9800,\n",
       "  11616,\n",
       "  13856,\n",
       "  15412,\n",
       "  18112,\n",
       "  18962],\n",
       " [None,\n",
       "  None,\n",
       "  None,\n",
       "  None,\n",
       "  0,\n",
       "  3813,\n",
       "  2661,\n",
       "  4229,\n",
       "  6945,\n",
       "  8566,\n",
       "  11826,\n",
       "  14562,\n",
       "  15062,\n",
       "  15762],\n",
       " [None,\n",
       "  None,\n",
       "  None,\n",
       "  None,\n",
       "  None,\n",
       "  0,\n",
       "  2046,\n",
       "  2466,\n",
       "  5223,\n",
       "  7377,\n",
       "  8249,\n",
       "  13433,\n",
       "  13873,\n",
       "  14983],\n",
       " [None,\n",
       "  None,\n",
       "  None,\n",
       "  None,\n",
       "  None,\n",
       "  None,\n",
       "  0,\n",
       "  616,\n",
       "  3366,\n",
       "  5429,\n",
       "  7877,\n",
       "  8165,\n",
       "  11925,\n",
       "  12965],\n",
       " [None,\n",
       "  None,\n",
       "  None,\n",
       "  None,\n",
       "  None,\n",
       "  None,\n",
       "  None,\n",
       "  0,\n",
       "  2772,\n",
       "  5121,\n",
       "  6073,\n",
       "  10577,\n",
       "  11617,\n",
       "  12877],\n",
       " [None,\n",
       "  None,\n",
       "  None,\n",
       "  None,\n",
       "  None,\n",
       "  None,\n",
       "  None,\n",
       "  None,\n",
       "  0,\n",
       "  8613,\n",
       "  11361,\n",
       "  11049,\n",
       "  12609,\n",
       "  17749],\n",
       " [None,\n",
       "  None,\n",
       "  None,\n",
       "  None,\n",
       "  None,\n",
       "  None,\n",
       "  None,\n",
       "  None,\n",
       "  None,\n",
       "  0,\n",
       "  5916,\n",
       "  8376,\n",
       "  6496,\n",
       "  14326],\n",
       " [None,\n",
       "  None,\n",
       "  None,\n",
       "  None,\n",
       "  None,\n",
       "  None,\n",
       "  None,\n",
       "  None,\n",
       "  None,\n",
       "  None,\n",
       "  0,\n",
       "  4896,\n",
       "  6496,\n",
       "  6496],\n",
       " [None,\n",
       "  None,\n",
       "  None,\n",
       "  None,\n",
       "  None,\n",
       "  None,\n",
       "  None,\n",
       "  None,\n",
       "  None,\n",
       "  None,\n",
       "  None,\n",
       "  0,\n",
       "  4320,\n",
       "  7200],\n",
       " [None,\n",
       "  None,\n",
       "  None,\n",
       "  None,\n",
       "  None,\n",
       "  None,\n",
       "  None,\n",
       "  None,\n",
       "  None,\n",
       "  None,\n",
       "  None,\n",
       "  None,\n",
       "  0,\n",
       "  5400],\n",
       " [None,\n",
       "  None,\n",
       "  None,\n",
       "  None,\n",
       "  None,\n",
       "  None,\n",
       "  None,\n",
       "  None,\n",
       "  None,\n",
       "  None,\n",
       "  None,\n",
       "  None,\n",
       "  None,\n",
       "  0]]"
      ]
     },
     "execution_count": 493,
     "metadata": {},
     "output_type": "execute_result"
    }
   ],
   "source": [
    "minSmoke(A)"
   ]
  },
  {
   "cell_type": "code",
   "execution_count": 500,
   "metadata": {},
   "outputs": [],
   "source": [
    "def longestSubsequenceLength(A):\n",
    "    lis_ending_i = [None] * len(A)\n",
    "    lds_starting_i = [None] * len(A)\n",
    "\n",
    "    lis_ending_i[0] = 1\n",
    "    for i in range(1, len(A)):\n",
    "        max_lis = 0\n",
    "        for j in range(i):\n",
    "            if A[j] < A[i] and lis_ending_i[j] > max_lis:\n",
    "                max_lis = lis_ending_i[j]\n",
    "\n",
    "        lis_ending_i[i] = 1 + max_lis\n",
    "        \n",
    "        \n",
    "        \n",
    "    lds_starting_i[-1] = 1\n",
    "    for i in range(len(A) - 2, -1, -1):\n",
    "        max_lds = 0\n",
    "        for j in range(i + 1, len(A)):\n",
    "            if A[j] < A[i] and lds_starting_i[j] > max_lds:\n",
    "                max_lds = lds_starting_i[j]\n",
    "                \n",
    "        lds_starting_i[i] = 1 + max_lds\n",
    "        \n",
    "    longest_subsequence_length = 0\n",
    "    for lis, lds in zip(lis_ending_i, lds_starting_i):\n",
    "        subsequence_length = lis + lds - 1\n",
    "        if subsequence_length > longest_subsequence_length:\n",
    "            longest_subsequence_length = subsequence_length\n",
    "            \n",
    "    return longest_subsequence_length"
   ]
  },
  {
   "cell_type": "code",
   "execution_count": 501,
   "metadata": {},
   "outputs": [],
   "source": [
    " A = [1, 11, 2, 10, 4, 5, 2, 1]"
   ]
  },
  {
   "cell_type": "code",
   "execution_count": 502,
   "metadata": {},
   "outputs": [
    {
     "data": {
      "text/plain": [
       "6"
      ]
     },
     "execution_count": 502,
     "metadata": {},
     "output_type": "execute_result"
    }
   ],
   "source": [
    "longestSubsequenceLength(A)"
   ]
  },
  {
   "cell_type": "code",
   "execution_count": 524,
   "metadata": {},
   "outputs": [],
   "source": [
    "def solve(A, B, C, D):\n",
    "    memo = [None] * (D + 1)\n",
    "    memo[0] = 1\n",
    "\n",
    "    for i in range(1, D + 1):\n",
    "        min_ = float('inf')\n",
    "        for k in range(i):\n",
    "            vals = memo[k] * A, memo[k] * B, memo[k] * C\n",
    "            \n",
    "            for v in vals:\n",
    "                if v < min_ and v > memo[i - 1]:\n",
    "                    min_ = v\n",
    "                \n",
    "        memo[i] = min_\n",
    "        \n",
    "    return memo"
   ]
  },
  {
   "cell_type": "code",
   "execution_count": 525,
   "metadata": {},
   "outputs": [],
   "source": [
    "A = 2\n",
    "B = 3\n",
    "C = 5\n",
    "D = 5"
   ]
  },
  {
   "cell_type": "code",
   "execution_count": 526,
   "metadata": {},
   "outputs": [
    {
     "data": {
      "text/plain": [
       "[1, 2, 3, 4, 5, 6]"
      ]
     },
     "execution_count": 526,
     "metadata": {},
     "output_type": "execute_result"
    }
   ],
   "source": [
    "solve(A, B, C, D)"
   ]
  },
  {
   "cell_type": "code",
   "execution_count": null,
   "metadata": {},
   "outputs": [],
   "source": []
  },
  {
   "cell_type": "code",
   "execution_count": null,
   "metadata": {},
   "outputs": [],
   "source": []
  },
  {
   "cell_type": "code",
   "execution_count": 558,
   "metadata": {},
   "outputs": [],
   "source": [
    "def solve(A):\n",
    "    dp = {}\n",
    "\n",
    "    for i in range(len(A) - 1, -1, -1):\n",
    "        for j in range(i + 1, len(A)):\n",
    "            d = A[j] - A[i]\n",
    "            dp[(i, d)] = max(1 + dp.get((j, d), 1), dp.get((i, d), 1))\n",
    "            \n",
    "    return max(dp.values())"
   ]
  },
  {
   "cell_type": "code",
   "execution_count": null,
   "metadata": {},
   "outputs": [],
   "source": []
  },
  {
   "cell_type": "code",
   "execution_count": null,
   "metadata": {},
   "outputs": [],
   "source": []
  },
  {
   "cell_type": "code",
   "execution_count": 562,
   "metadata": {},
   "outputs": [],
   "source": [
    "A = [9, 4, 7, 2, 10]"
   ]
  },
  {
   "cell_type": "code",
   "execution_count": 564,
   "metadata": {},
   "outputs": [],
   "source": [
    "A = [3, 6, 9, 12]"
   ]
  },
  {
   "cell_type": "code",
   "execution_count": 565,
   "metadata": {},
   "outputs": [
    {
     "data": {
      "text/plain": [
       "{(2, 3): 2, (1, 3): 3, (1, 6): 2, (0, 3): 4, (0, 6): 2, (0, 9): 2}"
      ]
     },
     "execution_count": 565,
     "metadata": {},
     "output_type": "execute_result"
    }
   ],
   "source": [
    "solve(A)"
   ]
  },
  {
   "cell_type": "code",
   "execution_count": 566,
   "metadata": {},
   "outputs": [],
   "source": [
    "x = {(2, 3): 2, (1, 3): 3, (1, 6): 2, (0, 3): 4, (0, 6): 2, (0, 9): 2}"
   ]
  },
  {
   "cell_type": "code",
   "execution_count": 569,
   "metadata": {},
   "outputs": [
    {
     "data": {
      "text/plain": [
       "4"
      ]
     },
     "execution_count": 569,
     "metadata": {},
     "output_type": "execute_result"
    }
   ],
   "source": [
    "max(x.values())"
   ]
  }
 ],
 "metadata": {
  "kernelspec": {
   "display_name": "Python 3 (ipykernel)",
   "language": "python",
   "name": "python3"
  },
  "language_info": {
   "codemirror_mode": {
    "name": "ipython",
    "version": 3
   },
   "file_extension": ".py",
   "mimetype": "text/x-python",
   "name": "python",
   "nbconvert_exporter": "python",
   "pygments_lexer": "ipython3",
   "version": "3.8.17"
  }
 },
 "nbformat": 4,
 "nbformat_minor": 4
}
